{
  "nbformat": 4,
  "nbformat_minor": 0,
  "metadata": {
    "colab": {
      "provenance": [],
      "authorship_tag": "ABX9TyOur1t6ZqGr+iILtbYN452n",
      "include_colab_link": true
    },
    "kernelspec": {
      "name": "python3",
      "display_name": "Python 3"
    },
    "language_info": {
      "name": "python"
    }
  },
  "cells": [
    {
      "cell_type": "markdown",
      "metadata": {
        "id": "view-in-github",
        "colab_type": "text"
      },
      "source": [
        "<a href=\"https://colab.research.google.com/github/AkashSeervi2003/PW_Assignment/blob/main/PythonAssignment7.ipynb\" target=\"_parent\"><img src=\"https://colab.research.google.com/assets/colab-badge.svg\" alt=\"Open In Colab\"/></a>"
      ]
    },
    {
      "cell_type": "markdown",
      "source": [
        "# **1) Multithreading vs. Multiprocessing**\n",
        "\n",
        "**Multithreading** is best for I/O-bound tasks like web servers and GUI applications, where tasks spend a lot of time waiting for external events. It allows for concurrency, making applications more responsive.\n",
        "\n",
        "**Multiprocessing** is ideal for CPU-bound tasks such as data processing and simulations, where tasks require heavy computation and can be executed in parallel, achieving true parallelism.\n",
        "\n",
        "\n",
        "\n",
        "**Key Differences:**\n",
        "\n",
        "* **Concurrency vs. Parallelism:** Multithreading achieves concurrency; multiprocessing achieves true parallelism.\n",
        "\n",
        "* **Resource Sharing:** Threads share memory space, making communication easier but prone to race conditions. Processes have separate memory spaces, making them safer but with higher communication overhead.\n",
        "\n",
        "* **Overhead:** Threads are less resource-intensive than processes.\n",
        "\n",
        "In summary, use multithreading for I/O-bound tasks needing responsiveness and low overhead, and multiprocessing for CPU-bound tasks that benefit from parallel execution."
      ],
      "metadata": {
        "id": "hduYpzfycTi2"
      }
    },
    {
      "cell_type": "markdown",
      "source": [
        "# **2)**\n",
        "\n",
        "A process pool is a collection of worker processes that can execute tasks concurrently. It helps manage multiple processes efficiently by:\n",
        "\n",
        "**Reusing Processes:** Instead of creating a new process for each task, the pool reuses existing processes, reducing the overhead of process creation and termination.\n",
        "\n",
        "**Load Balancing:** Distributes tasks among the available processes, ensuring that all processes are utilized effectively.\n",
        "\n",
        "**Simplified Management:** Provides a simple interface to submit tasks and retrieve results, making it easier to manage parallel execution.\n",
        "\n",
        "In summary, a process pool improves efficiency by reusing processes, balancing the load, and simplifying task management."
      ],
      "metadata": {
        "id": "rf_p3GpSdARd"
      }
    },
    {
      "cell_type": "markdown",
      "source": [
        "# **3)**\n",
        "\n",
        "Multiprocessing is a technique in Python that allows a program to run multiple processes simultaneously. Each process runs independently and can execute tasks in parallel, utilizing multiple CPU cores.\n",
        "\n",
        "**Why Use Multiprocessing in Python?**\n",
        "\n",
        "* **Parallel Execution:** It enables true parallelism, making it ideal for CPU-bound tasks that require heavy computation.\n",
        "* **Performance Improvement:** By distributing tasks across multiple processors, it can significantly speed up the execution of programs.\n",
        "* **Bypassing GIL:** It helps overcome the Global Interpreter Lock (GIL) in Python, which restricts the execution of multiple threads in a single process.\n",
        "\n",
        "In summary, multiprocessing is used to enhance performance by running tasks in parallel and efficiently utilizing multiple CPU cores."
      ],
      "metadata": {
        "id": "7YNO8UFVev1b"
      }
    },
    {
      "cell_type": "code",
      "source": [
        "#4) Python program using multithreading\n",
        "\n",
        "import threading\n",
        "import time\n",
        "numbers = []\n",
        "lock = threading.Lock()\n",
        "def add_numbers():\n",
        "    for i in range(10):\n",
        "        time.sleep(1)  # Simulate some delay\n",
        "        with lock:\n",
        "            numbers.append(i)\n",
        "            print(f\"Added {i}, List: {numbers}\")\n",
        "def remove_numbers():\n",
        "    for i in range(10):\n",
        "        time.sleep(1.5)  # Simulate some delay\n",
        "        with lock:\n",
        "            if numbers:\n",
        "                removed = numbers.pop(0)\n",
        "                print(f\"Removed {removed}, List: {numbers}\")\n",
        "thread1 = threading.Thread(target=add_numbers)\n",
        "thread2 = threading.Thread(target=remove_numbers)\n",
        "thread1.start()\n",
        "thread2.start()\n",
        "thread1.join()\n",
        "thread2.join()\n",
        "print(\"Final List:\", numbers)"
      ],
      "metadata": {
        "colab": {
          "base_uri": "https://localhost:8080/"
        },
        "id": "qHfYKY_ggEZK",
        "outputId": "27f96f28-3f21-4eb8-ff02-079b09e488d4"
      },
      "execution_count": 2,
      "outputs": [
        {
          "output_type": "stream",
          "name": "stdout",
          "text": [
            "Added 0, List: [0]\n",
            "Removed 0, List: []\n",
            "Added 1, List: [1]\n",
            "Added 2, List: [1, 2]\n",
            "Removed 1, List: [2]\n",
            "Added 3, List: [2, 3]\n",
            "Removed 2, List: [3]\n",
            "Added 4, List: [3, 4]\n",
            "Added 5, List: [3, 4, 5]\n",
            "Removed 3, List: [4, 5]\n",
            "Added 6, List: [4, 5, 6]\n",
            "Removed 4, List: [5, 6]\n",
            "Added 7, List: [5, 6, 7]\n",
            "Added 8, List: [5, 6, 7, 8]\n",
            "Removed 5, List: [6, 7, 8]\n",
            "Added 9, List: [6, 7, 8, 9]\n",
            "Removed 6, List: [7, 8, 9]\n",
            "Removed 7, List: [8, 9]\n",
            "Removed 8, List: [9]\n",
            "Removed 9, List: []\n",
            "Final List: []\n"
          ]
        }
      ]
    },
    {
      "cell_type": "markdown",
      "source": [
        "# **5)**\n",
        "\n",
        "# **Sharing Data Between Threads**\n",
        "\n",
        "1. **threading.Lock:** Ensures that only one thread can access a shared resource at a time, preventing race conditions.\n",
        "\n",
        "2. **threading.RLock:** A reentrant lock that allows the same thread to acquire the lock multiple times.\n",
        "\n",
        "3. **threading.Event:** Used for signaling between threads.\n",
        "\n",
        "4. **threading.Queue:** A thread-safe FIFO queue for exchanging data between threads.\n",
        "\n",
        "# **Sharing Data Between Processes**\n",
        "\n",
        "1. **multiprocessing.Queue:** A process-safe FIFO queue for exchanging data between processes.\n",
        "\n",
        "2. **multiprocessing.Pipe:** Allows two-way communication between processes.\n",
        "\n",
        "3. **multiprocessing.Manager:** Provides a way to create shared objects like lists and dictionaries that can be accessed by multiple processes.\n",
        "\n",
        "4. **multiprocessing.Value and Array:** Shared memory constructs for simple data types and arrays.\n",
        "\n",
        "These tools help ensure safe and efficient data sharing in concurrent and parallel Python programs."
      ],
      "metadata": {
        "id": "31yuy7TggvLx"
      }
    },
    {
      "cell_type": "markdown",
      "source": [
        "# **6)Importance of Handling Exceptions in Concurrent Programs**\n",
        "\n",
        "Handling exceptions in concurrent programs is crucial because unhandled exceptions can cause threads or processes to terminate unexpectedly, leading to incomplete tasks, data corruption, or deadlocks.\n",
        "\n",
        "**Techniques for Handling Exceptions**\n",
        "\n",
        "1. **Try-Except Blocks:** Wrap critical sections of code in try-except blocks to catch and handle exceptions.\n",
        "\n",
        "2. **Thread/Process Monitoring:** Use monitoring mechanisms to detect and handle exceptions in threads or processes. For example, in Python, you can use threading.Thread or multiprocessing.Process to check the status and handle errors.\n",
        "\n",
        "3. **Logging:** Implement logging to record exceptions and errors, which helps in debugging and maintaining the program.\n",
        "\n",
        "4. **Graceful Shutdown:** Ensure that resources are properly released and the program can shut down gracefully in case of an exception.\n",
        "\n",
        "In summary, handling exceptions ensures the stability and reliability of concurrent programs by preventing unexpected terminations and maintaining data integrity."
      ],
      "metadata": {
        "id": "hiaQ8b4XiIh6"
      }
    },
    {
      "cell_type": "code",
      "source": [
        "#7) Program that uses a thread pool to calculate the factorial of numbers\n",
        "import concurrent.futures\n",
        "import math\n",
        "def factorial(n):\n",
        "    return math.factorial(n)\n",
        "numbers = range(1, 11)\n",
        "with concurrent.futures.ThreadPoolExecutor() as executor:\n",
        "    results = list(executor.map(factorial, numbers))\n",
        "for number, result in zip(numbers, results):\n",
        "    print(f\"Factorial of {number} is {result}\")"
      ],
      "metadata": {
        "colab": {
          "base_uri": "https://localhost:8080/"
        },
        "id": "ZPi7mrWgjXes",
        "outputId": "bab956f5-bf78-4a19-e3b4-c20e2816b0e2"
      },
      "execution_count": 3,
      "outputs": [
        {
          "output_type": "stream",
          "name": "stdout",
          "text": [
            "Factorial of 1 is 1\n",
            "Factorial of 2 is 2\n",
            "Factorial of 3 is 6\n",
            "Factorial of 4 is 24\n",
            "Factorial of 5 is 120\n",
            "Factorial of 6 is 720\n",
            "Factorial of 7 is 5040\n",
            "Factorial of 8 is 40320\n",
            "Factorial of 9 is 362880\n",
            "Factorial of 10 is 3628800\n"
          ]
        }
      ]
    },
    {
      "cell_type": "code",
      "source": [
        "# 8) Program that uses multiprocessing.Pool to compute the square of numbers\n",
        "\n",
        "import multiprocessing\n",
        "import time\n",
        "def square(n):\n",
        "    return n * n\n",
        "numbers = list(range(1, 11))\n",
        "def measure_time(pool_size):\n",
        "    start_time = time.time()\n",
        "    with multiprocessing.Pool(processes=pool_size) as pool:\n",
        "        results = pool.map(square, numbers)\n",
        "    end_time = time.time()\n",
        "    print(f\"Pool size: {pool_size}, Time taken: {end_time - start_time:.4f} seconds, Results: {results}\")\n",
        "for size in [2, 4, 8]:\n",
        "    measure_time(size)"
      ],
      "metadata": {
        "id": "TUlf_l6njyXS"
      },
      "execution_count": null,
      "outputs": []
    }
  ]
}