{
  "nbformat": 4,
  "nbformat_minor": 0,
  "metadata": {
    "colab": {
      "provenance": [],
      "collapsed_sections": [
        "hxkwWEfRe_Hq"
      ],
      "authorship_tag": "ABX9TyO8uXP6wQIlabgmoMSWgGcW",
      "include_colab_link": true
    },
    "kernelspec": {
      "name": "python3",
      "display_name": "Python 3"
    },
    "language_info": {
      "name": "python"
    }
  },
  "cells": [
    {
      "cell_type": "markdown",
      "metadata": {
        "id": "view-in-github",
        "colab_type": "text"
      },
      "source": [
        "<a href=\"https://colab.research.google.com/github/AkashSeervi2003/PW_Assignment/blob/main/Untitled3.ipynb\" target=\"_parent\"><img src=\"https://colab.research.google.com/assets/colab-badge.svg\" alt=\"Open In Colab\"/></a>"
      ]
    },
    {
      "cell_type": "markdown",
      "source": [
        "# 1. String Slicing\n",
        "\n",
        "*   String slicing is used to extract specific portions of a string.\n",
        "*   To slice a string, you can use the following syntax:"
      ],
      "metadata": {
        "id": "hiJYBmNAwD7Z"
      }
    },
    {
      "cell_type": "code",
      "source": [
        "string[start:end]"
      ],
      "metadata": {
        "id": "RouDI_AIxPwM"
      },
      "execution_count": null,
      "outputs": []
    },
    {
      "cell_type": "markdown",
      "source": [
        "\n",
        "\n",
        "*   **start** is the index where the slice begins (inclusive).\n",
        "*   **end** is the index where the slice ends (exclusive).\n",
        "\n",
        "**Example**: Let’s say we have the string \"Hello, World!\". Here are some examples:\n",
        "\n",
        "\n",
        "*   **Getting a Substring**"
      ],
      "metadata": {
        "id": "qfxyxVbIxTQN"
      }
    },
    {
      "cell_type": "code",
      "source": [
        "original_string = \"Hello, World!\"\n",
        "substring = original_string[7:12]  # Gets \"World\"\n",
        "print(substring)"
      ],
      "metadata": {
        "id": "NYU1RK6MyEpb"
      },
      "execution_count": null,
      "outputs": []
    },
    {
      "cell_type": "markdown",
      "source": [
        "\n",
        "\n",
        "*   **Omitting the Start or End**: If you omit start, it defaults to the beginning of the string. If you omit end, it goes up to the end of the string.\n",
        "\n"
      ],
      "metadata": {
        "id": "1LgBf_clyOiO"
      }
    },
    {
      "cell_type": "code",
      "source": [
        "first_word = original_string[:5]  # Gets \"Hello\"\n",
        "last_word = original_string[7:]  # Gets \"World!\"\n",
        "print(first_word, last_word)"
      ],
      "metadata": {
        "id": "8WywyJ72yk1O"
      },
      "execution_count": null,
      "outputs": []
    },
    {
      "cell_type": "markdown",
      "source": [
        "\n",
        "\n",
        "* **Negative Indices**: You can use negative indices to count from the end of the string:  \n",
        "\n"
      ],
      "metadata": {
        "id": "DKWmrtQPzOS7"
      }
    },
    {
      "cell_type": "code",
      "source": [
        "last_word = original_string[-6:] # Gets \"World!\"\n",
        "print(last_word)"
      ],
      "metadata": {
        "id": "DWDD_Ln6zWnf"
      },
      "execution_count": null,
      "outputs": []
    },
    {
      "cell_type": "markdown",
      "source": [
        "\n",
        "\n",
        "*   **Step (Stride) Value**: You can also specify a step value to skip characters:\n"
      ],
      "metadata": {
        "id": "U2HadwkK0Ds2"
      }
    },
    {
      "cell_type": "code",
      "source": [
        "every_second_char = original_string[::2] # Gets \"HloWrd\"\n",
        "print(every_second_char)"
      ],
      "metadata": {
        "id": "hHFFCDyB0I9l"
      },
      "execution_count": null,
      "outputs": []
    },
    {
      "cell_type": "markdown",
      "source": [
        "# 2. Key features of Lists\n",
        "1. Ordered Collection:\n",
        "     * Lists maintain the order of elements. The first item you add stays at index 0, the second at index 1, and so on.\n",
        "     * This order is crucial because it allows you to access specific elements by their position.\n",
        "2. Mutable:\n",
        "     * Lists are mutable, meaning you can change their contents after creation.\n",
        "     *  You can add, remove, or modify elements within a list.\n",
        "3. Heterogeneous Elements:\n",
        "     * A single list can contain different data types. For example, [1, \"apple\", True, 3.14].\n",
        "     * This flexibility makes lists powerful for storing diverse information.\n",
        "4. Indexed Access:\n",
        "      * You access list elements using their indices (positions).\n",
        "      * Indexing starts at 0. So, my_list[0] gives you the first element.\n",
        "5. Slicing:\n",
        "      * Just like with strings, you can slice lists to extract sublists.\n",
        "      * Example: my_list[1:4] gives you elements from index 1 (inclusive) to 4 (exclusive).\n",
        "6. Common List Operations:\n",
        "    * Adding elements:\n",
        "      * my_list.append(item) adds item to the end.\n",
        "      * my_list.insert(index, item) inserts item at a specific index.\n",
        "    * Removing elements:\n",
        "      * my_list.remove(item) removes the first occurrence of item.\n",
        "      * my_list.pop(index) removes and returns the element at index.\n"
      ],
      "metadata": {
        "id": "oa44IcLKdxyj"
      }
    },
    {
      "cell_type": "markdown",
      "source": [
        "# 3. Access,Modify and Delete Elements in a List\n",
        "\n",
        "1. **Accessing Elements:**\n",
        "  * To access an element in a list, you use its index (position).\n",
        "  * Example:"
      ],
      "metadata": {
        "id": "hxkwWEfRe_Hq"
      }
    },
    {
      "cell_type": "code",
      "source": [
        "my_list = [10, 20, 30, 40, 50]\n",
        "first_element = my_list[0]  # Gets the first element (10)\n",
        "third_element = my_list[2]  # Gets the third element (30)\n",
        "print(first_element, third_element)"
      ],
      "metadata": {
        "id": "8Jw6JxxNgCJL"
      },
      "execution_count": null,
      "outputs": []
    },
    {
      "cell_type": "markdown",
      "source": [
        "2. **Modifying Elements:**\n",
        "\n",
        "    * Lists are mutable, so you can change their contents.\n",
        "    * To modify an element, assign a new value to its index.\n",
        "    * Example"
      ],
      "metadata": {
        "id": "pnMoIUASgH2B"
      }
    },
    {
      "cell_type": "code",
      "source": [
        "my_list[1] = 25  # Modifies the second element (20 becomes 25)\n",
        "print(my_list)"
      ],
      "metadata": {
        "id": "MCwoLj2YhJLr"
      },
      "execution_count": null,
      "outputs": []
    },
    {
      "cell_type": "markdown",
      "source": [
        "3. **Deleting Elements:**\n",
        "    * del statement: Removes an element by index.\n",
        "    * pop(): Removes and returns an element by index (or the last element if no index is specified).\n",
        "    * remove(): Removes the first occurrence of a specific value.\n",
        "    * Examples:"
      ],
      "metadata": {
        "id": "Hh4GuyZlhNqz"
      }
    },
    {
      "cell_type": "code",
      "source": [
        "my_list = [10, 25, 30, 40, 50]\n",
        "\n",
        "# Using del to remove the third element (30)\n",
        "del my_list[2]\n",
        "\n",
        "# Using pop to remove the last element (50)\n",
        "popped_value = my_list.pop()\n",
        "\n",
        "# Using remove to delete the value 25\n",
        "my_list.remove(25)\n",
        "\n",
        "print(my_list)  # Should now be [10, 40]"
      ],
      "metadata": {
        "id": "Gh6sLlibh3y9"
      },
      "execution_count": null,
      "outputs": []
    },
    {
      "cell_type": "markdown",
      "source": [
        "# 4. Tuples and Lists\n",
        "\n",
        "# Tuples:\n",
        "\n",
        " 1. **Definition**:\n",
        "      * A tuple is an ordered, immutable collection of elements.\n",
        "      * Immutable means you can’t change its contents after creation.\n",
        "\n",
        " 2. **Syntax**:\n",
        "      * Tuples are defined using parentheses () or the tuple() constructor.\n",
        "      * Example:"
      ],
      "metadata": {
        "id": "C8FaWSq3iLm9"
      }
    },
    {
      "cell_type": "code",
      "source": [
        "my_tuple = (10, 20, 30)"
      ],
      "metadata": {
        "id": "dDstbOLnjJ13"
      },
      "execution_count": null,
      "outputs": []
    },
    {
      "cell_type": "markdown",
      "source": [
        " 3. **Use Cases**:\n",
        "      * Tuples are suitable for fixed data that shouldn’t change (e.g., coordinates, RGB color values).\n",
        "      * They’re often used as keys in dictionaries because of their immutability.\n",
        " 4. **Accessing Elements**:\n",
        "       * You access tuple elements using indices (like lists).\n",
        "       * Example:"
      ],
      "metadata": {
        "id": "x8N2SzUdjL2u"
      }
    },
    {
      "cell_type": "code",
      "source": [
        "first_element = my_tuple[0]  # Gets the first element (10)"
      ],
      "metadata": {
        "id": "pUpof4lgjzD2"
      },
      "execution_count": null,
      "outputs": []
    },
    {
      "cell_type": "markdown",
      "source": [
        " 5. **Advantages**:\n",
        "      * Lightweight and memory-efficient.\n",
        "      * Faster to create than lists.\n",
        " 6. **Disadvantages**:\n",
        "      * Limited functionality (no append, insert, or remove operations).\n",
        "      * Once created, you can’t modify its contents."
      ],
      "metadata": {
        "id": "jzOxRasAj1y8"
      }
    },
    {
      "cell_type": "markdown",
      "source": [
        " # Lists:\n",
        "  1. **Definition:**\n",
        "       * A list is an ordered, mutable collection of elements.\n",
        "       * Mutable means you can modify its contents freely.\n",
        "  2. **Syntax***:\n",
        "       * Lists are defined using square brackets [] or the list() constructor.\n",
        "       * Example:"
      ],
      "metadata": {
        "id": "yQxnF_ZhkhMI"
      }
    },
    {
      "cell_type": "code",
      "source": [
        "my_list = [10, 20, 30]"
      ],
      "metadata": {
        "id": "u5LjupvFlCOv"
      },
      "execution_count": null,
      "outputs": []
    },
    {
      "cell_type": "markdown",
      "source": [
        "  3. **Use Cases**:\n",
        "       * Lists are versatile and commonly used for dynamic data.\n",
        "       * Ideal when you need to add, remove, or modify elements.\n",
        "  4. **Accessing Elements**:\n",
        "       * Same as tuples—use indices.\n",
        "       * Example:\n"
      ],
      "metadata": {
        "id": "1G1Io3XrlGGh"
      }
    },
    {
      "cell_type": "code",
      "source": [
        "second_element = my_list[1]  # Gets the second element (20)"
      ],
      "metadata": {
        "id": "1aLsQQG3lfXx"
      },
      "execution_count": null,
      "outputs": []
    },
    {
      "cell_type": "markdown",
      "source": [
        "  5. Advantages:\n",
        "     * Rich functionality (append, insert, remove, etc.).\n",
        "     * Flexible and adaptable.\n",
        "  6. Disadvantages:\n",
        "     * Slightly heavier in memory compared to tuples.\n",
        "     * Slower to create than tuples."
      ],
      "metadata": {
        "id": "FWjuYS6MlhMW"
      }
    }
  ]
}