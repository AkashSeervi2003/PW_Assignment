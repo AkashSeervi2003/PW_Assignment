{
  "nbformat": 4,
  "nbformat_minor": 0,
  "metadata": {
    "colab": {
      "provenance": [],
      "collapsed_sections": [
        "hxkwWEfRe_Hq",
        "C8FaWSq3iLm9"
      ],
      "authorship_tag": "ABX9TyP2CKARta6JGlanDEeIDFh1",
      "include_colab_link": true
    },
    "kernelspec": {
      "name": "python3",
      "display_name": "Python 3"
    },
    "language_info": {
      "name": "python"
    }
  },
  "cells": [
    {
      "cell_type": "markdown",
      "metadata": {
        "id": "view-in-github",
        "colab_type": "text"
      },
      "source": [
        "<a href=\"https://colab.research.google.com/github/AkashSeervi2003/PW_Assignment/blob/main/Assignment2.ipynb\" target=\"_parent\"><img src=\"https://colab.research.google.com/assets/colab-badge.svg\" alt=\"Open In Colab\"/></a>"
      ]
    },
    {
      "cell_type": "markdown",
      "source": [
        "# 1. String Slicing\n",
        "\n",
        "*   String slicing is used to extract specific portions of a string.\n",
        "*   To slice a string, you can use the following syntax:"
      ],
      "metadata": {
        "id": "hiJYBmNAwD7Z"
      }
    },
    {
      "cell_type": "code",
      "source": [
        "string[start:end]"
      ],
      "metadata": {
        "id": "RouDI_AIxPwM"
      },
      "execution_count": null,
      "outputs": []
    },
    {
      "cell_type": "markdown",
      "source": [
        "\n",
        "\n",
        "*   **start** is the index where the slice begins (inclusive).\n",
        "*   **end** is the index where the slice ends (exclusive).\n",
        "\n",
        "**Example**: Let’s say we have the string \"Hello, World!\". Here are some examples:\n",
        "\n",
        "\n",
        "*   **Getting a Substring**"
      ],
      "metadata": {
        "id": "qfxyxVbIxTQN"
      }
    },
    {
      "cell_type": "code",
      "source": [
        "original_string = \"Hello, World!\"\n",
        "substring = original_string[7:12]  # Gets \"World\"\n",
        "print(substring)"
      ],
      "metadata": {
        "id": "NYU1RK6MyEpb"
      },
      "execution_count": null,
      "outputs": []
    },
    {
      "cell_type": "markdown",
      "source": [
        "\n",
        "\n",
        "*   **Omitting the Start or End**: If you omit start, it defaults to the beginning of the string. If you omit end, it goes up to the end of the string.\n",
        "\n"
      ],
      "metadata": {
        "id": "1LgBf_clyOiO"
      }
    },
    {
      "cell_type": "code",
      "source": [
        "first_word = original_string[:5]  # Gets \"Hello\"\n",
        "last_word = original_string[7:]  # Gets \"World!\"\n",
        "print(first_word, last_word)"
      ],
      "metadata": {
        "id": "8WywyJ72yk1O"
      },
      "execution_count": null,
      "outputs": []
    },
    {
      "cell_type": "markdown",
      "source": [
        "\n",
        "\n",
        "* **Negative Indices**: You can use negative indices to count from the end of the string:  \n",
        "\n"
      ],
      "metadata": {
        "id": "DKWmrtQPzOS7"
      }
    },
    {
      "cell_type": "code",
      "source": [
        "last_word = original_string[-6:] # Gets \"World!\"\n",
        "print(last_word)"
      ],
      "metadata": {
        "id": "DWDD_Ln6zWnf"
      },
      "execution_count": null,
      "outputs": []
    },
    {
      "cell_type": "markdown",
      "source": [
        "\n",
        "\n",
        "*   **Step (Stride) Value**: You can also specify a step value to skip characters:\n"
      ],
      "metadata": {
        "id": "U2HadwkK0Ds2"
      }
    },
    {
      "cell_type": "code",
      "source": [
        "every_second_char = original_string[::2] # Gets \"HloWrd\"\n",
        "print(every_second_char)"
      ],
      "metadata": {
        "id": "hHFFCDyB0I9l"
      },
      "execution_count": null,
      "outputs": []
    },
    {
      "cell_type": "markdown",
      "source": [
        "# 2. Key features of Lists\n",
        "1. Ordered Collection:\n",
        "     * Lists maintain the order of elements. The first item you add stays at index 0, the second at index 1, and so on.\n",
        "     * This order is crucial because it allows you to access specific elements by their position.\n",
        "2. Mutable:\n",
        "     * Lists are mutable, meaning you can change their contents after creation.\n",
        "     *  You can add, remove, or modify elements within a list.\n",
        "3. Heterogeneous Elements:\n",
        "     * A single list can contain different data types. For example, [1, \"apple\", True, 3.14].\n",
        "     * This flexibility makes lists powerful for storing diverse information.\n",
        "4. Indexed Access:\n",
        "      * You access list elements using their indices (positions).\n",
        "      * Indexing starts at 0. So, my_list[0] gives you the first element.\n",
        "5. Slicing:\n",
        "      * Just like with strings, you can slice lists to extract sublists.\n",
        "      * Example: my_list[1:4] gives you elements from index 1 (inclusive) to 4 (exclusive).\n",
        "6. Common List Operations:\n",
        "    * Adding elements:\n",
        "      * my_list.append(item) adds item to the end.\n",
        "      * my_list.insert(index, item) inserts item at a specific index.\n",
        "    * Removing elements:\n",
        "      * my_list.remove(item) removes the first occurrence of item.\n",
        "      * my_list.pop(index) removes and returns the element at index.\n"
      ],
      "metadata": {
        "id": "oa44IcLKdxyj"
      }
    },
    {
      "cell_type": "markdown",
      "source": [
        "# 3. Access,Modify and Delete Elements in a List\n",
        "\n",
        "1. **Accessing Elements:**\n",
        "  * To access an element in a list, you use its index (position).\n",
        "  * Example:"
      ],
      "metadata": {
        "id": "hxkwWEfRe_Hq"
      }
    },
    {
      "cell_type": "code",
      "source": [
        "my_list = [10, 20, 30, 40, 50]\n",
        "first_element = my_list[0]  # Gets the first element (10)\n",
        "third_element = my_list[2]  # Gets the third element (30)\n",
        "print(first_element, third_element)"
      ],
      "metadata": {
        "id": "8Jw6JxxNgCJL"
      },
      "execution_count": null,
      "outputs": []
    },
    {
      "cell_type": "markdown",
      "source": [
        "2. **Modifying Elements:**\n",
        "\n",
        "    * Lists are mutable, so you can change their contents.\n",
        "    * To modify an element, assign a new value to its index.\n",
        "    * Example"
      ],
      "metadata": {
        "id": "pnMoIUASgH2B"
      }
    },
    {
      "cell_type": "code",
      "source": [
        "my_list[1] = 25  # Modifies the second element (20 becomes 25)\n",
        "print(my_list)"
      ],
      "metadata": {
        "id": "MCwoLj2YhJLr"
      },
      "execution_count": null,
      "outputs": []
    },
    {
      "cell_type": "markdown",
      "source": [
        "3. **Deleting Elements:**\n",
        "    * del statement: Removes an element by index.\n",
        "    * pop(): Removes and returns an element by index (or the last element if no index is specified).\n",
        "    * remove(): Removes the first occurrence of a specific value.\n",
        "    * Examples:"
      ],
      "metadata": {
        "id": "Hh4GuyZlhNqz"
      }
    },
    {
      "cell_type": "code",
      "source": [
        "my_list = [10, 25, 30, 40, 50]\n",
        "\n",
        "# Using del to remove the third element (30)\n",
        "del my_list[2]\n",
        "\n",
        "# Using pop to remove the last element (50)\n",
        "popped_value = my_list.pop()\n",
        "\n",
        "# Using remove to delete the value 25\n",
        "my_list.remove(25)\n",
        "\n",
        "print(my_list)  # Should now be [10, 40]"
      ],
      "metadata": {
        "id": "Gh6sLlibh3y9"
      },
      "execution_count": null,
      "outputs": []
    },
    {
      "cell_type": "markdown",
      "source": [
        "# 4. Tuples and Lists\n",
        "\n",
        "# Tuples:\n",
        "\n",
        " 1. **Definition**:\n",
        "      * A tuple is an ordered, immutable collection of elements.\n",
        "      * Immutable means you can’t change its contents after creation.\n",
        "\n",
        " 2. **Syntax**:\n",
        "      * Tuples are defined using parentheses () or the tuple() constructor.\n",
        "      * Example:"
      ],
      "metadata": {
        "id": "C8FaWSq3iLm9"
      }
    },
    {
      "cell_type": "code",
      "source": [
        "my_tuple = (10, 20, 30)"
      ],
      "metadata": {
        "id": "dDstbOLnjJ13"
      },
      "execution_count": null,
      "outputs": []
    },
    {
      "cell_type": "markdown",
      "source": [
        " 3. **Use Cases**:\n",
        "      * Tuples are suitable for fixed data that shouldn’t change (e.g., coordinates, RGB color values).\n",
        "      * They’re often used as keys in dictionaries because of their immutability.\n",
        " 4. **Accessing Elements**:\n",
        "       * You access tuple elements using indices (like lists).\n",
        "       * Example:"
      ],
      "metadata": {
        "id": "x8N2SzUdjL2u"
      }
    },
    {
      "cell_type": "code",
      "source": [
        "first_element = my_tuple[0]  # Gets the first element (10)"
      ],
      "metadata": {
        "id": "pUpof4lgjzD2"
      },
      "execution_count": null,
      "outputs": []
    },
    {
      "cell_type": "markdown",
      "source": [
        " 5. **Advantages**:\n",
        "      * Lightweight and memory-efficient.\n",
        "      * Faster to create than lists.\n",
        " 6. **Disadvantages**:\n",
        "      * Limited functionality (no append, insert, or remove operations).\n",
        "      * Once created, you can’t modify its contents."
      ],
      "metadata": {
        "id": "jzOxRasAj1y8"
      }
    },
    {
      "cell_type": "markdown",
      "source": [
        " # Lists:\n",
        "  1. **Definition:**\n",
        "       * A list is an ordered, mutable collection of elements.\n",
        "       * Mutable means you can modify its contents freely.\n",
        "  2. **Syntax***:\n",
        "       * Lists are defined using square brackets [] or the list() constructor.\n",
        "       * Example:"
      ],
      "metadata": {
        "id": "yQxnF_ZhkhMI"
      }
    },
    {
      "cell_type": "code",
      "source": [
        "my_list = [10, 20, 30]"
      ],
      "metadata": {
        "id": "u5LjupvFlCOv"
      },
      "execution_count": null,
      "outputs": []
    },
    {
      "cell_type": "markdown",
      "source": [
        "  3. **Use Cases**:\n",
        "       * Lists are versatile and commonly used for dynamic data.\n",
        "       * Ideal when you need to add, remove, or modify elements.\n",
        "  4. **Accessing Elements**:\n",
        "       * Same as tuples—use indices.\n",
        "       * Example:\n"
      ],
      "metadata": {
        "id": "1G1Io3XrlGGh"
      }
    },
    {
      "cell_type": "code",
      "source": [
        "second_element = my_list[1]  # Gets the second element (20)"
      ],
      "metadata": {
        "collapsed": true,
        "id": "1aLsQQG3lfXx"
      },
      "execution_count": null,
      "outputs": []
    },
    {
      "cell_type": "markdown",
      "source": [
        "  5. Advantages:\n",
        "     * Rich functionality (append, insert, remove, etc.).\n",
        "     * Flexible and adaptable.\n",
        "  6. Disadvantages:\n",
        "     * Slightly heavier in memory compared to tuples.\n",
        "     * Slower to create than tuples."
      ],
      "metadata": {
        "id": "FWjuYS6MlhMW"
      }
    },
    {
      "cell_type": "markdown",
      "source": [
        "# 5. Key features of Sets:\n",
        "\n",
        "   1. **Unordered Collection:**\n",
        "   Sets do not maintain the order of elements.\n",
        "   * Example:"
      ],
      "metadata": {
        "id": "9ygzCE8ko60T"
      }
    },
    {
      "cell_type": "code",
      "source": [
        "my_set = {3, 1, 4, 2}\n",
        "print(my_set)  # Output order is unpredictable."
      ],
      "metadata": {
        "id": "HXMnXk8Fqem3"
      },
      "execution_count": null,
      "outputs": []
    },
    {
      "cell_type": "markdown",
      "source": [
        "   2. **Unique Elements:**\n",
        "   A set cannot have duplicate elements; it removes duplicates automatically.\n",
        "   * Example:"
      ],
      "metadata": {
        "id": "sXRPikcVqjvh"
      }
    },
    {
      "cell_type": "code",
      "source": [
        "my_set = {1, 2, 2, 3, 4}\n",
        "print(my_set)  # Output: {1, 2, 3, 4}"
      ],
      "metadata": {
        "id": "xL290p3FqyFx"
      },
      "execution_count": null,
      "outputs": []
    },
    {
      "cell_type": "markdown",
      "source": [
        "   3. **Mutable:** You can add or remove elements from a set, but the elements themselves must be immutable (like numbers, strings).\n",
        "    * Example:"
      ],
      "metadata": {
        "id": "VBzQE6ibq0Dw"
      }
    },
    {
      "cell_type": "code",
      "source": [
        "my_set = {1, 2, 3}\n",
        "my_set.add(4)\n",
        "print(my_set)  # Output: {1, 2, 3, 4}"
      ],
      "metadata": {
        "id": "ZQCN9dXirFRk"
      },
      "execution_count": null,
      "outputs": []
    },
    {
      "cell_type": "markdown",
      "source": [
        "   4. **Efficient Membership Testing:** Sets are optimized for checking whether an element is present.\n",
        "   * Example:\n",
        "\n"
      ],
      "metadata": {
        "id": "HisFYjXErHUM"
      }
    },
    {
      "cell_type": "code",
      "source": [
        "print(3 in my_set)  # Output: True"
      ],
      "metadata": {
        "id": "TOdBOqonrPUY"
      },
      "execution_count": null,
      "outputs": []
    },
    {
      "cell_type": "markdown",
      "source": [
        "   5. **Set Operations:** Sets support mathematical operations like union, intersection, and difference.\n",
        "    * Example:"
      ],
      "metadata": {
        "id": "zMMpu9GErSeX"
      }
    },
    {
      "cell_type": "code",
      "source": [
        "set_a = {1, 2, 3}\n",
        "set_b = {3, 4, 5}\n",
        "print(set_a.union(set_b))  # Output: {1, 2, 3, 4, 5}"
      ],
      "metadata": {
        "id": "UK6O1petrhCM"
      },
      "execution_count": null,
      "outputs": []
    },
    {
      "cell_type": "markdown",
      "source": [
        "# 6. Use case of Tuples and Sets\n",
        "\n",
        "# **Tuples:**\n",
        "  1. **Fixed and Ordered:** Tuples store data that shouldn’t change (immutable) and keep items in order.\n",
        "   * Use Case: Storing fixed values like coordinates.\n",
        "   * Example: coordinates = (10, 20)\n",
        "  2. **Fast Access:** Tuples are faster than lists, so they’re used when data doesn’t need to change.\n",
        "   * Use Case: Passing fixed settings to a function.\n",
        "   * Example: config = ('localhost', 8080)\n",
        "\n",
        "# **Sets:**\n",
        "  1. **Unique Items:** Sets automatically remove duplicates, making them useful for ensuring uniqueness.\n",
        "   * Use Case: Removing duplicates from a list.\n",
        "   * Example: unique_elements = set([1, 2, 2, 3]) # Output: {1, 2, 3}\n",
        "  2. **Fast Lookups:** Sets are good for quickly checking if something exists in a group.\n",
        "   * Use Case: Checking if a word is in a dictionary.\n",
        "   * Example: \"apple\" in {\"apple\", \"banana\"}\n",
        "  3. **Set Operations:** Sets can easily find common or different items between groups.\n",
        "   * Use Case: Finding common elements between lists.\n",
        "   * Example: {1, 2} & {2, 3} # Output: {2}"
      ],
      "metadata": {
        "id": "XmL72pYxtLRE"
      }
    },
    {
      "cell_type": "markdown",
      "source": [
        "# 7. Add,Modify and Delete items in a Dictionary\n",
        "\n",
        "   1. **Adding Items:**\n",
        "     * You can add a new key-value pair to a dictionary by assigning a value to a new key.\n",
        "     * Example:"
      ],
      "metadata": {
        "id": "laf9z4zs2fc3"
      }
    },
    {
      "cell_type": "code",
      "source": [
        "my_dict = {'name': 'John', 'age': 25}\n",
        "my_dict['city'] = 'New York'  # Adding a new key-value pair\n",
        "print(my_dict)  # Output: {'name': 'John', 'age': 25, 'city': 'New York'}"
      ],
      "metadata": {
        "id": "mmVllZ223kjq"
      },
      "execution_count": null,
      "outputs": []
    },
    {
      "cell_type": "markdown",
      "source": [
        "   2. **Modifying Items:**\n",
        "      * To modify an existing item, assign a new value to an existing key.\n",
        "      * Example:"
      ],
      "metadata": {
        "id": "e9nUECSK3m61"
      }
    },
    {
      "cell_type": "code",
      "source": [
        "my_dict = {'name': 'John', 'age': 25}\n",
        "my_dict['age'] = 26  # Modifying the value of an existing key\n",
        "print(my_dict)  # Output: {'name': 'John', 'age': 26}"
      ],
      "metadata": {
        "id": "yWPWZZMt3ziu"
      },
      "execution_count": null,
      "outputs": []
    },
    {
      "cell_type": "markdown",
      "source": [
        "  3. **Delete Items:**\n",
        "        * You can delete an item from a dictionary using the del statement or the pop() method.\n",
        "        * Example (Using del):"
      ],
      "metadata": {
        "id": "jAxiJbnG31zV"
      }
    },
    {
      "cell_type": "code",
      "source": [
        "my_dict = {'name': 'John', 'age': 25, 'city': 'New York'}\n",
        "del my_dict['city']  # Deleting the key 'city'\n",
        "print(my_dict)  # Output: {'name': 'John', 'age': 25}"
      ],
      "metadata": {
        "id": "zzGJdRlL4Gz_"
      },
      "execution_count": null,
      "outputs": []
    },
    {
      "cell_type": "markdown",
      "source": [
        "   * Example (Using pop()):"
      ],
      "metadata": {
        "id": "abyjWguF4Nq9"
      }
    },
    {
      "cell_type": "code",
      "source": [
        "my_dict = {'name': 'John', 'age': 25}\n",
        "my_dict.pop('age')  # Removing 'age' and getting its value\n",
        "print(my_dict)  # Output: {'name': 'John'}"
      ],
      "metadata": {
        "id": "-P91MvL84WyY"
      },
      "execution_count": null,
      "outputs": []
    },
    {
      "cell_type": "markdown",
      "source": [
        "# 8. Importance of Immutable Dictionary Keys:\n",
        "   1. **Key Integrity:**\n",
        "      * When dictionary keys are immutable (unchangeable), their integrity is guaranteed.\n",
        "      * Immutable keys prevent accidental modifications or unexpected behavior.\n",
        "   2. **Hashability:**\n",
        "      * Dictionaries use hash tables for efficient key-value lookups.\n",
        "      * Immutable keys ensure consistent hash values.\n",
        "      * Mutable keys (like lists) can’t be hashed and thus can’t be used as dictionary keys.\n",
        "   3. **Examples**:\n",
        "      * Using Strings as Keys (Immutable):\n",
        "\n"
      ],
      "metadata": {
        "id": "sx4dokT44YFS"
      }
    },
    {
      "cell_type": "code",
      "source": [
        "student_grades = {\"Alice\": 95, \"Bob\": 80, \"Charlie\": 70}\n",
        "# Adding a new grade\n",
        "student_grades[\"David\"] = 88"
      ],
      "metadata": {
        "id": "gSLJte--86lj"
      },
      "execution_count": null,
      "outputs": []
    },
    {
      "cell_type": "markdown",
      "source": [
        "  * Using Tuples as Keys (Immutable):"
      ],
      "metadata": {
        "id": "zWPQDS4i88Q3"
      }
    },
    {
      "cell_type": "code",
      "source": [
        "coordinates = {(10, 20): \"City A\", (30, 40): \"City B\"}\n",
        "# Retrieving city name using coordinates\n",
        "city_name = coordinates[(10, 20)]"
      ],
      "metadata": {
        "id": "jZkrP3UZ9D3_"
      },
      "execution_count": null,
      "outputs": []
    },
    {
      "cell_type": "markdown",
      "source": [
        "   * Avoiding Lists as Keys (Mutable):"
      ],
      "metadata": {
        "id": "Fl-x1CfR9GCH"
      }
    },
    {
      "cell_type": "code",
      "source": [
        "# This will raise an error because lists are mutable\n",
        "invalid_dict = {[1, 2]: \"Invalid Key\"}"
      ],
      "metadata": {
        "id": "PwtN6Ck49Mz_"
      },
      "execution_count": null,
      "outputs": []
    },
    {
      "cell_type": "markdown",
      "source": [
        "   4. **Best Practices:**\n",
        "    * Use strings, numbers, or tuples as dictionary keys.\n",
        "    * Avoid using mutable objects (lists, dictionaries) as keys."
      ],
      "metadata": {
        "id": "OTu-NDX49OmC"
      }
    },
    {
      "cell_type": "markdown",
      "source": [],
      "metadata": {
        "id": "dugofhr3911o"
      }
    }
  ]
}