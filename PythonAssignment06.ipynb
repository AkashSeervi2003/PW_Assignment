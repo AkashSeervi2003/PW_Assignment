{
  "nbformat": 4,
  "nbformat_minor": 0,
  "metadata": {
    "colab": {
      "provenance": [],
      "authorship_tag": "ABX9TyNvX0hWXjCQfsgBVWhRR0GK",
      "include_colab_link": true
    },
    "kernelspec": {
      "name": "python3",
      "display_name": "Python 3"
    },
    "language_info": {
      "name": "python"
    }
  },
  "cells": [
    {
      "cell_type": "markdown",
      "metadata": {
        "id": "view-in-github",
        "colab_type": "text"
      },
      "source": [
        "<a href=\"https://colab.research.google.com/github/AkashSeervi2003/PW_Assignment/blob/main/PythonAssignment06.ipynb\" target=\"_parent\"><img src=\"https://colab.research.google.com/assets/colab-badge.svg\" alt=\"Open In Colab\"/></a>"
      ]
    },
    {
      "cell_type": "markdown",
      "source": [
        "# ***1)***\n",
        "\n",
        "NumPy is a library in Python used for scientific computing and data analysis. It helps in handling large arrays and matrices efficiently.\n",
        "\n",
        "**Purpose:**\n",
        "\n",
        "* **Array Handling:** NumPy provides tools to create and manipulate large arrays and matrices.\n",
        "\n",
        "* **Mathematical Functions**: It includes functions for performing mathematical operations on arrays.\n",
        "\n",
        "***Advantages:***\n",
        "\n",
        "* **Speed**: NumPy is faster than Python lists for numerical operations.\n",
        "\n",
        "* **Memory Efficient:** It uses less memory compared to Python lists.\n",
        "\n",
        "* **Vectorization:** Allows operations on entire arrays without loops, making code faster and easier to read.\n",
        "\n",
        "* **Integration:** Works well with other libraries like Pandas and Matplotlib.\n",
        "\n",
        "***Enhancing Python:***\n",
        "\n",
        "* **Efficient Computations:** NumPy makes numerical computations faster and more efficient.\n",
        "\n",
        "* **Array Operations:** Supports complex operations on arrays easily.\n",
        "In summary, NumPy makes Python better for scientific computing by providing fast, memory-efficient tools for handling large arrays and performing mathematical operations."
      ],
      "metadata": {
        "id": "kLaKvsEwCVK3"
      }
    },
    {
      "cell_type": "markdown",
      "source": [
        "# **2)**\n",
        "\n",
        "np.mean() and np.average() are both used to calculate averages in NumPy, but they have some differences.\n",
        "\n",
        "## **np.mean():**\n",
        "\n",
        "**Purpose:** Calculates the simple average (arithmetic mean) of array elements.\n",
        "\n",
        "**Usage:** np.mean(array)\n",
        "\n",
        "**Weights:** Does not support weights; all elements are treated equally.\n",
        "\n",
        "**Example:**"
      ],
      "metadata": {
        "id": "IjG850GPFBVF"
      }
    },
    {
      "cell_type": "code",
      "source": [
        "import numpy as np\n",
        "arr = np.array([1, 2, 3, 4, 5])\n",
        "mean_value = np.mean(arr)\n",
        "print(mean_value)  # Output: 3.0"
      ],
      "metadata": {
        "id": "9RJOrsmoF1VO"
      },
      "execution_count": null,
      "outputs": []
    },
    {
      "cell_type": "markdown",
      "source": [
        "# **np.average():**\n",
        "\n",
        "**Purpose**: Calculates the weighted average if weights are provided; otherwise, it calculates the simple average.\n",
        "\n",
        "**Usage:** np.average(array, weights=weights)\n",
        "\n",
        "**Weights:** Supports weights, allowing different importance to each element.\n",
        "\n",
        "**Example:**"
      ],
      "metadata": {
        "id": "7FDqKiP6F3Iq"
      }
    },
    {
      "cell_type": "code",
      "source": [
        "import numpy as np\n",
        "arr = np.array([1, 2, 3, 4, 5])\n",
        "weights = np.array([1, 2, 3, 4, 5])\n",
        "weighted_avg = np.average(arr, weights=weights)\n",
        "print(weighted_avg)  # Output: 3.67"
      ],
      "metadata": {
        "id": "BCNRdkUcGFj_"
      },
      "execution_count": null,
      "outputs": []
    },
    {
      "cell_type": "markdown",
      "source": [
        "**When to Use:**\n",
        "\n",
        "* Use np.mean() for a simple average when all elements are equally important.\n",
        "* Use np.average() for a weighted average when elements have different importance.\n",
        "\n",
        "In summary, np.mean() is for simple averages, while np.average() is for weighted averages."
      ],
      "metadata": {
        "id": "Ey0LTmtqGH8d"
      }
    },
    {
      "cell_type": "markdown",
      "source": [
        "# **3)**\n",
        "To reverse a NumPy array along different axes, you can use several methods. Here are the main ones:\n",
        "\n",
        "# **1. Using np.flip():**\n",
        "\n",
        "**Purpose:** Reverses the order of elements along the specified axis.\n",
        "\n",
        "**Syntax:** np.flip(array, axis)\n",
        "\n",
        "**Examples:**\n",
        "\n",
        "* **1D Array:**\n",
        "\n"
      ],
      "metadata": {
        "id": "D9KKFhpoGQ3d"
      }
    },
    {
      "cell_type": "code",
      "source": [
        "import numpy as np\n",
        "arr_1d = np.array([1, 2, 3, 4, 5])\n",
        "reversed_1d = np.flip(arr_1d)\n",
        "print(reversed_1d)  # Output: [5 4 3 2 1]"
      ],
      "metadata": {
        "id": "Viw1ENY6GyJL"
      },
      "execution_count": null,
      "outputs": []
    },
    {
      "cell_type": "markdown",
      "source": [
        "* **2D Array:**"
      ],
      "metadata": {
        "id": "S9ADQolWGzXP"
      }
    },
    {
      "cell_type": "code",
      "source": [
        "import numpy as np\n",
        "arr_2d = np.array([[1, 2, 3], [4, 5, 6], [7, 8, 9]])\n",
        "reversed_2d_rows = np.flip(arr_2d, axis=0)  # Reverse rows\n",
        "reversed_2d_cols = np.flip(arr_2d, axis=1)  # Reverse columns\n",
        "print(reversed_2d_rows)  # Output: [[7 8 9] [4 5 6] [1 2 3]]\n",
        "print(reversed_2d_cols)  # Output: [[3 2 1] [6 5 4] [9 8 7]]"
      ],
      "metadata": {
        "id": "6Y-3kfhLG6XU"
      },
      "execution_count": null,
      "outputs": []
    },
    {
      "cell_type": "markdown",
      "source": [
        "# **2. Using Array Slicing:**\n",
        "\n",
        "**Purpose:** Provides a simple way to reverse arrays using slicing.\n",
        "**Syntax:** array[::-1] for reversing the entire array, or array[:, ::-1] for reversing along a specific axis.\n",
        "**Examples:**\n",
        "\n",
        "* **1D Array:**"
      ],
      "metadata": {
        "id": "u7cDojswG8pm"
      }
    },
    {
      "cell_type": "code",
      "source": [
        "import numpy as np\n",
        "arr_1d = np.array([1, 2, 3, 4, 5])\n",
        "reversed_1d = arr_1d[::-1]\n",
        "print(reversed_1d)  # Output: [5 4 3 2 1"
      ],
      "metadata": {
        "id": "x7qmXx35HHzz"
      },
      "execution_count": null,
      "outputs": []
    },
    {
      "cell_type": "markdown",
      "source": [
        "* **2D Array:**"
      ],
      "metadata": {
        "id": "ybBbcxPWHJmx"
      }
    },
    {
      "cell_type": "code",
      "source": [
        "import numpy as np\n",
        "arr_2d = np.array([[1, 2, 3], [4, 5, 6], [7, 8, 9]])\n",
        "reversed_2d_rows = arr_2d[::-1, :]  # Reverse rows\n",
        "reversed_2d_cols = arr_2d[:, ::-1]  # Reverse columns\n",
        "print(reversed_2d_rows)  # Output: [[7 8 9] [4 5 6] [1 2 3]]\n",
        "print(reversed_2d_cols)  # Output: [[3 2 1] [6 5 4] [9 8 7]]"
      ],
      "metadata": {
        "id": "nbix0tZTHM6D"
      },
      "execution_count": null,
      "outputs": []
    },
    {
      "cell_type": "markdown",
      "source": [
        "In summary, np.flip() and array slicing are two effective methods to reverse NumPy arrays along different axes. Use np.flip() for more control over specific axes and array slicing for a quick and simple approach."
      ],
      "metadata": {
        "id": "BDuNf-rsHPbe"
      }
    },
    {
      "cell_type": "markdown",
      "source": [
        "# **4)**\n",
        "\n",
        "To determine the data type of elements in a NumPy array, you can use the dtype attribute. This attribute tells you the type of data stored in the array.\n",
        "\n",
        "**Example:**"
      ],
      "metadata": {
        "id": "aW8fe5cDHVJt"
      }
    },
    {
      "cell_type": "code",
      "source": [
        "import numpy as np\n",
        "arr = np.array([1, 2, 3])\n",
        "print(arr.dtype)  # Output: int32 (or another integer type depending on the system)"
      ],
      "metadata": {
        "id": "ZcOHvWTkHi7i"
      },
      "execution_count": null,
      "outputs": []
    },
    {
      "cell_type": "markdown",
      "source": [
        "**Importance of Data Types:**\n",
        "\n",
        " 1. **Memory Management:**\n",
        "\n",
        "* **Efficient Memory Use:** Different data types use different amounts of memory. For example, an int32 uses 4 bytes, while an int64 uses 8 bytes. Choosing the right data type helps save memory.\n",
        "* **Data Integrity:** Using the correct data type ensures that the data is stored accurately without loss of information.\n",
        "\n",
        "2. **Performance:**\n",
        "\n",
        "* **Speed:** Operations on smaller data types (like int32) are generally faster than on larger ones (like int64), because they require less memory and processing power.\n",
        "* **Optimization:** Knowing the data type allows NumPy to optimize operations, making computations faster and more efficient.\n",
        "\n",
        "In summary, determining the data type with dtype helps manage memory efficiently and improves performance by optimizing how data is stored and processed."
      ],
      "metadata": {
        "id": "mvrjDgN2HpKi"
      }
    },
    {
      "cell_type": "markdown",
      "source": [
        "# **5)**\n",
        "\n",
        "# **ndarrays in NumPy:**\n",
        "\n",
        "**Definition:** An ndarray (N-dimensional array) is a multi-dimensional, fixed-size array in NumPy that holds elements of the same data type.\n",
        "\n",
        "**Key Features:**\n",
        "\n",
        "1. **Multi-Dimensional:** Can handle arrays with multiple dimensions (e.g., 1D, 2D, 3D).\n",
        "2. **Homogeneous:** All elements must be of the same data type.\n",
        "3. **Efficient Memory Use:** Stored in contiguous memory blocks, making operations faster.\n",
        "4. **Vectorized Operations:** Supports element-wise operations without explicit loops.\n",
        "5. **Indexing and Slicing:** Allows advanced indexing and slicing for accessing and modifying elements.\n",
        "\n",
        "**Differences from Python Lists:**\n",
        "\n",
        "1. **Data Type:** Lists can hold elements of different types; ndarrays require all elements to be the same type.\n",
        "2. **Performance:** ndarrays are faster for numerical operations due to efficient memory use and vectorization.\n",
        "3. **Memory:** ndarrays use less memory compared to lists for large datasets.\n",
        "4. **Functionality:** ndarrays support more mathematical functions and operations than lists.\n",
        "\n",
        "In summary, ndarrays are specialized for numerical and scientific computing, offering better performance and functionality compared to standard Python lists"
      ],
      "metadata": {
        "id": "ploKDrpmIPvp"
      }
    },
    {
      "cell_type": "markdown",
      "source": [
        "# **6)**\n",
        "\n",
        "NumPy arrays offer significant performance benefits over Python lists:\n",
        "\n",
        "1. **Memory Efficiency**: NumPy arrays use less memory because they store data in contiguous blocks and have a fixed data type.\n",
        "2. **Speed:** NumPy supports vectorized operations, which are faster than looping through Python lists.\n",
        "3. **Optimized Implementation:** NumPy is implemented in C, making numerical operations faster.\n",
        "**Example:**"
      ],
      "metadata": {
        "id": "0-Cr0b8KJQ0I"
      }
    },
    {
      "cell_type": "code",
      "source": [
        "import numpy as np\n",
        "import time\n",
        "\n",
        "# Using NumPy array\n",
        "arr = np.arange(1000000)\n",
        "start_time = time.time()\n",
        "np.sum(arr)\n",
        "print(\"NumPy time:\", time.time() - start_time)\n",
        "\n",
        "# Using Python list\n",
        "lst = list(range(1000000))\n",
        "start_time = time.time()\n",
        "sum(lst)\n",
        "print(\"Python list time:\", time.time() - start_time)"
      ],
      "metadata": {
        "id": "VNAbZiydKrpd"
      },
      "execution_count": null,
      "outputs": []
    },
    {
      "cell_type": "markdown",
      "source": [
        "NumPy performs operations faster and uses memory more efficiently than Python lists."
      ],
      "metadata": {
        "id": "Qos5SEb-KuK8"
      }
    },
    {
      "cell_type": "markdown",
      "source": [
        "# **7)**\n",
        "\n",
        "vstack() and hstack() are functions in NumPy used to stack arrays vertically and horizontally, respectively.\n",
        "\n",
        "***vstack():***\n",
        "\n",
        "* **Purpose:** Stacks arrays in sequence vertically (row-wise).\n",
        "* **Usage:** np.vstack((array1, array2, ...))\n",
        "* **Example:**"
      ],
      "metadata": {
        "id": "Bw9_ZLMfKxmN"
      }
    },
    {
      "cell_type": "code",
      "source": [
        "import numpy as np\n",
        "a = np.array([1, 2, 3])\n",
        "b = np.array([4, 5, 6])\n",
        "result = np.vstack((a, b))\n",
        "print(result)\n",
        "# Output:\n",
        "# [[1 2 3]\n",
        "#  [4 5 6]]"
      ],
      "metadata": {
        "id": "vwxtE_3KLTNV"
      },
      "execution_count": null,
      "outputs": []
    },
    {
      "cell_type": "markdown",
      "source": [
        "***hstack():***\n",
        "\n",
        "* **Purpose:** Stacks arrays in sequence horizontally (column-wise).\n",
        "* **Usage:** np.hstack((array1, array2, ...))\n",
        "* **Example:**"
      ],
      "metadata": {
        "id": "Y42txAmXLUOf"
      }
    },
    {
      "cell_type": "code",
      "source": [
        "import numpy as np\n",
        "a = np.array([[1], [2], [3]])\n",
        "b = np.array([[4], [5], [6]])\n",
        "result = np.hstack((a, b))\n",
        "print(result)\n",
        "# Output:\n",
        "# [[1 4]\n",
        "#  [2 5]\n",
        "#  [3 6]]"
      ],
      "metadata": {
        "id": "F9naeZ_zLij7"
      },
      "execution_count": null,
      "outputs": []
    },
    {
      "cell_type": "markdown",
      "source": [
        "**Comparison:**\n",
        "\n",
        "* **vstack()**: Adds arrays as new rows.\n",
        "\n",
        "* **hstack()**: Adds arrays as new columns.\n",
        "\n",
        "In summary, use vstack() to stack arrays vertically and hstack() to stack them horizontally"
      ],
      "metadata": {
        "id": "4O2DiOkALjl5"
      }
    },
    {
      "cell_type": "markdown",
      "source": [
        "# **8)**\n",
        "\n",
        "fliplr() and flipud() are functions in NumPy used to flip arrays, but they work in different directions.\n",
        "\n",
        "**fliplr():**\n",
        "\n",
        "* **Purpose**: Flips the array left to right (horizontally).\n",
        "\n",
        "* **Effect**: Reverses the order of columns while keeping the rows the same.\n",
        "\n",
        "* **Example**:"
      ],
      "metadata": {
        "id": "w4WJtaBCLxMu"
      }
    },
    {
      "cell_type": "code",
      "source": [
        "import numpy as np\n",
        "arr = np.array([[1, 2, 3], [4, 5, 6], [7, 8, 9]])\n",
        "result = np.fliplr(arr)\n",
        "print(result)\n",
        "# Output:\n",
        "# [[3 2 1]\n",
        "#  [6 5 4]\n",
        "#  [9 8 7]]"
      ],
      "metadata": {
        "id": "rxSdQJrZMKy_"
      },
      "execution_count": null,
      "outputs": []
    },
    {
      "cell_type": "markdown",
      "source": [
        "**flipud():**\n",
        "\n",
        "* **Purpose:** Flips the array up to down (vertically).\n",
        "\n",
        "* **Effect:** Reverses the order of rows while keeping the columns the same.\n",
        "\n",
        "* **Example:**"
      ],
      "metadata": {
        "id": "5fyYCjIoMLuZ"
      }
    },
    {
      "cell_type": "code",
      "source": [
        "import numpy as np\n",
        "arr = np.array([[1, 2, 3], [4, 5, 6], [7, 8, 9]])\n",
        "result = np.flipud(arr)\n",
        "print(result)\n",
        "# Output:\n",
        "# [[7 8 9]\n",
        "#  [4 5 6]\n",
        "#  [1 2 3]]"
      ],
      "metadata": {
        "id": "44nfdy8qMZ0H"
      },
      "execution_count": null,
      "outputs": []
    },
    {
      "cell_type": "markdown",
      "source": [
        "**Summary:**\n",
        "\n",
        "**fliplr():** Flips horizontally, reversing columns.\n",
        "\n",
        "**flipud():** Flips vertically, reversing rows.\n",
        "\n",
        "In summary, use fliplr() to flip arrays left to right and flipud() to flip them up to down."
      ],
      "metadata": {
        "id": "tAXdApLiMbw3"
      }
    },
    {
      "cell_type": "markdown",
      "source": [
        "# **9)**\n",
        "\n",
        "# **array_split():**\n",
        "\n",
        "* **Purpose:** Splits an array into multiple sub-arrays.\n",
        "\n",
        "* **Usage:** np.array_split(array, sections)\n",
        "\n",
        "**Handling Uneven Splits:**\n",
        "\n",
        "* **Uneven Division:** If the array cannot be evenly divided, array_split() creates sub-arrays of nearly equal size.\n",
        "\n",
        "* **Example:**"
      ],
      "metadata": {
        "id": "u2x-g7MlMlbo"
      }
    },
    {
      "cell_type": "code",
      "source": [
        "import numpy as np\n",
        "arr = np.arange(9)\n",
        "result = np.array_split(arr, 4)\n",
        "print(result)\n",
        "# Output: [array([0, 1, 2]), array([3, 4]), array([5, 6]), array([7, 8])]"
      ],
      "metadata": {
        "id": "8bNKkiSJPydp"
      },
      "execution_count": null,
      "outputs": []
    },
    {
      "cell_type": "markdown",
      "source": [
        "In this example, the array [0, 1, 2, 3, 4, 5, 6, 7, 8] is split into 4 parts. Since 9 elements cannot be evenly divided by 4, the first sub-array has 3 elements, and the rest have 2 elements each.\n",
        "\n",
        "In summary, array_split() is useful for splitting arrays into nearly equal parts when an exact division is not possible."
      ],
      "metadata": {
        "id": "Qd7t2mzVPz34"
      }
    },
    {
      "cell_type": "markdown",
      "source": [
        "# **10)**\n",
        "\n",
        "**Vectorization:**\n",
        "\n",
        "* **Definition:** Vectorization is the process of performing operations on entire arrays without using explicit loops.\n",
        "\n",
        "* **Benefit:** It makes code faster and more efficient because operations are executed at once in low-level languages like C, instead of looping in Python.\n",
        "\n",
        "**Example:**"
      ],
      "metadata": {
        "id": "FCJonA5GP5Up"
      }
    },
    {
      "cell_type": "code",
      "source": [
        "import numpy as np\n",
        "arr = np.array([1, 2, 3, 4])\n",
        "result = arr * 2  # Multiplies each element by 2\n",
        "print(result)  # Output: [2 4 6 8]"
      ],
      "metadata": {
        "id": "xkXCYzbBQi6S"
      },
      "execution_count": null,
      "outputs": []
    },
    {
      "cell_type": "markdown",
      "source": [
        "**Broadcasting:**\n",
        "\n",
        "* **Definition:** Broadcasting allows NumPy to perform operations on arrays of different shapes by expanding the smaller array to match the shape of the larger one.\n",
        "\n",
        "* **Benefit:** It enables efficient computation without making unnecessary copies of data.\n",
        "\n",
        "* **Example:**"
      ],
      "metadata": {
        "id": "4lFPk4rDQjwn"
      }
    },
    {
      "cell_type": "code",
      "source": [
        "import numpy as np\n",
        "arr1 = np.array([1, 2, 3])\n",
        "arr2 = np.array([[1], [2], [3]])\n",
        "result = arr1 + arr2\n",
        "print(result)\n",
        "# Output:\n",
        "# [[2 3 4]\n",
        "#  [3 4 5]\n",
        "#  [4 5 6]]"
      ],
      "metadata": {
        "id": "tzxF_0kGQ2ne"
      },
      "execution_count": null,
      "outputs": []
    },
    {
      "cell_type": "markdown",
      "source": [
        "**Contribution to Efficient Array Operations:**\n",
        "\n",
        "* **Speed:** Both vectorization and broadcasting eliminate the need for explicit loops, making operations faster.\n",
        "\n",
        "* **Memory Efficiency**: Broadcasting avoids unnecessary data duplication, saving memory.\n",
        "\n",
        "* **Simplified Code:** These techniques make code more concise and easier to read.\n",
        "\n",
        "In summary, vectorization and broadcasting in NumPy enhance performance and efficiency by speeding up operations and reducing memory usage"
      ],
      "metadata": {
        "id": "fJcg_LkkQ3SS"
      }
    }
  ]
}