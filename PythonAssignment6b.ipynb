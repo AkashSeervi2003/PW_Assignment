{
  "nbformat": 4,
  "nbformat_minor": 0,
  "metadata": {
    "colab": {
      "provenance": [],
      "authorship_tag": "ABX9TyO2Mop2jxEBbd5Y17kEqggr",
      "include_colab_link": true
    },
    "kernelspec": {
      "name": "python3",
      "display_name": "Python 3"
    },
    "language_info": {
      "name": "python"
    }
  },
  "cells": [
    {
      "cell_type": "markdown",
      "metadata": {
        "id": "view-in-github",
        "colab_type": "text"
      },
      "source": [
        "<a href=\"https://colab.research.google.com/github/AkashSeervi2003/PW_Assignment/blob/main/PythonAssignment6b.ipynb\" target=\"_parent\"><img src=\"https://colab.research.google.com/assets/colab-badge.svg\" alt=\"Open In Colab\"/></a>"
      ]
    },
    {
      "cell_type": "code",
      "execution_count": null,
      "metadata": {
        "id": "FznTswFCSy-L"
      },
      "outputs": [],
      "source": [
        "#1)Create a 3x3 NumPy array with random integers between 1 and 100. Then, interchange its rows and columns.\n",
        "import numpy as np\n",
        "\n",
        "# Create a 3x3 array with random integers between 1 and 100\n",
        "arr = np.random.randint(1, 101, size=(3, 3))\n",
        "print(\"Original array:\\n\", arr)\n",
        "\n",
        "# Interchange rows and columns\n",
        "transposed_arr = arr.T\n",
        "print(\"Transposed array:\\n\", transposed_arr)"
      ]
    },
    {
      "cell_type": "code",
      "source": [
        "# 2)Generate a 1D NumPy array with 10 elements. Reshape it into a 2x5 array, then into a 5x2 array.\n",
        "import numpy as np\n",
        "\n",
        "# Generate a 1D array with 10 elements\n",
        "arr = np.arange(10)\n",
        "print(\"Original 1D array:\\n\", arr)\n",
        "\n",
        "# Reshape into a 2x5 array\n",
        "arr_2x5 = arr.reshape(2, 5)\n",
        "print(\"Reshaped to 2x5 array:\\n\", arr_2x5)\n",
        "\n",
        "# Reshape into a 5x2 array\n",
        "arr_5x2 = arr.reshape(5, 2)\n",
        "print(\"Reshaped to 5x2 array:\\n\", arr_5x2)"
      ],
      "metadata": {
        "id": "-e6JKxobSz70"
      },
      "execution_count": null,
      "outputs": []
    },
    {
      "cell_type": "code",
      "source": [],
      "metadata": {
        "id": "ZG0wurOaTbUr"
      },
      "execution_count": null,
      "outputs": []
    },
    {
      "cell_type": "code",
      "source": [
        "# 3)Create a 4x4 NumPy array with random float values. Add a border of zeros around it, resulting in a 6x6 array.\n",
        "import numpy as np\n",
        "\n",
        "# Create a 4x4 array with random float values\n",
        "arr = np.random.rand(4, 4)\n",
        "print(\"Original 4x4 array:\\n\", arr)\n",
        "\n",
        "# Add a border of zeros\n",
        "arr_with_border = np.pad(arr, pad_width=1, mode='constant', constant_values=0)\n",
        "print(\"6x6 array with border:\\n\", arr_with_border)\n"
      ],
      "metadata": {
        "id": "lgvVuILfTO_t"
      },
      "execution_count": null,
      "outputs": []
    },
    {
      "cell_type": "code",
      "source": [
        "# 4)Using NumPy, create an array of integers from 10 to 60 with a step of 5.\n",
        "import numpy as np\n",
        "\n",
        "# Create an array from 10 to 60 with a step of 5\n",
        "arr = np.arange(10, 61, 5)\n",
        "print(\"Array from 10 to 60 with step 5:\\n\", arr)"
      ],
      "metadata": {
        "id": "Mol8rmMhTU6d"
      },
      "execution_count": null,
      "outputs": []
    },
    {
      "cell_type": "code",
      "source": [
        "# 5)Create a NumPy array of strings [‘python’, ‘numpy’, ‘pandas’]. Apply different case transformations (uppercase, lowercase, title case, etc.) to each element.\n",
        "import numpy as np\n",
        "\n",
        "# Create an array of strings\n",
        "arr = np.array(['python', 'numpy', 'pandas'])\n",
        "print(\"Original array:\\n\", arr)\n",
        "\n",
        "# Apply case transformations\n",
        "upper_arr = np.char.upper(arr)\n",
        "lower_arr = np.char.lower(arr)\n",
        "title_arr = np.char.title(arr)\n",
        "print(\"Uppercase:\\n\", upper_arr)\n",
        "print(\"Lowercase:\\n\", lower_arr)\n",
        "print(\"Title case:\\n\", title_arr)\n"
      ],
      "metadata": {
        "id": "JSJFnCt6TcuW"
      },
      "execution_count": null,
      "outputs": []
    },
    {
      "cell_type": "code",
      "source": [
        "# 6)Generate a NumPy array of words. Insert a space between each character of every word in the array.\n",
        "import numpy as np\n",
        "\n",
        "# Create an array of words\n",
        "arr = np.array(['hello', 'world', 'numpy'])\n",
        "print(\"Original array:\\n\", arr)\n",
        "\n",
        "# Insert a space between each character\n",
        "spaced_arr = np.char.join(' ', arr)\n",
        "print(\"Array with spaces:\\n\", spaced_arr)"
      ],
      "metadata": {
        "id": "AlYcWoUrTi64"
      },
      "execution_count": null,
      "outputs": []
    },
    {
      "cell_type": "code",
      "source": [
        "# 7)Create two 2D NumPy arrays and perform element-wise addition, subtraction, multiplication, and division.\n",
        "import numpy as np\n",
        "\n",
        "# Create an array of words\n",
        "arr = np.array(['hello', 'world', 'numpy'])\n",
        "print(\"Original array:\\n\", arr)\n",
        "\n",
        "# Insert a space between each character\n",
        "spaced_arr = np.char.join(' ', arr)\n",
        "print(\"Array with spaces:\\n\", spaced_arr)\n"
      ],
      "metadata": {
        "id": "tE9bt77OTrM5"
      },
      "execution_count": null,
      "outputs": []
    },
    {
      "cell_type": "code",
      "source": [
        "# 8)Use NumPy to create a 5x5 identity matrix, then extract its diagonal elements.\n",
        "import numpy as np\n",
        "\n",
        "# Create a 5x5 identity matrix\n",
        "identity_matrix = np.eye(5)\n",
        "print(\"5x5 Identity matrix:\\n\", identity_matrix)\n",
        "\n",
        "# Extract diagonal elements\n",
        "diagonal_elements = np.diag(identity_matrix)\n",
        "print(\"Diagonal elements:\\n\", diagonal_elements)\n"
      ],
      "metadata": {
        "id": "-TNYD7bNTw_L"
      },
      "execution_count": null,
      "outputs": []
    },
    {
      "cell_type": "code",
      "source": [
        "# 9)Generate a NumPy array of 100 random integers between 0 and 1000. Find and display all prime numbers in this array.\n",
        "import numpy as np\n",
        "\n",
        "# Function to check if a number is prime\n",
        "def is_prime(n):\n",
        "    if n <= 1:\n",
        "        return False\n",
        "    for i in range(2, int(np.sqrt(n)) + 1):\n",
        "        if n % i == 0:\n",
        "            return False\n",
        "    return True\n",
        "\n",
        "# Generate an array of 100 random integers between 0 and 1000\n",
        "arr = np.random.randint(0, 1001, size=100)\n",
        "print(\"Original array:\\n\", arr)\n",
        "\n",
        "# Find all prime numbers in the array\n",
        "primes = np.array([num for num in arr if is_prime(num)])\n",
        "print(\"Prime numbers:\\n\", primes)\n"
      ],
      "metadata": {
        "id": "I3Jq0hhdT1yY"
      },
      "execution_count": null,
      "outputs": []
    },
    {
      "cell_type": "code",
      "source": [
        "# 10)Create a NumPy array representing daily temperatures for a month. Calculate and display the weekly averages.\n",
        "import numpy as np\n",
        "\n",
        "# Create an array representing daily temperatures for a month (30 days)\n",
        "temperatures = np.random.randint(15, 35, size=30)\n",
        "print(\"Daily temperatures:\\n\", temperatures)\n",
        "\n",
        "# Calculate weekly averages\n",
        "weekly_averages = np.mean(temperatures.reshape(-1, 7), axis=1)\n",
        "print(\"Weekly averages:\\n\", weekly_averages)\n"
      ],
      "metadata": {
        "id": "_TWdSBJRT56p"
      },
      "execution_count": null,
      "outputs": []
    }
  ]
}