{
  "nbformat": 4,
  "nbformat_minor": 0,
  "metadata": {
    "colab": {
      "provenance": [],
      "authorship_tag": "ABX9TyMHYEj6p8a0cIybI7SQQw6x",
      "include_colab_link": true
    },
    "kernelspec": {
      "name": "python3",
      "display_name": "Python 3"
    },
    "language_info": {
      "name": "python"
    }
  },
  "cells": [
    {
      "cell_type": "markdown",
      "metadata": {
        "id": "view-in-github",
        "colab_type": "text"
      },
      "source": [
        "<a href=\"https://colab.research.google.com/github/AkashSeervi2003/PW_Assignment/blob/main/Assignment5.ipynb\" target=\"_parent\"><img src=\"https://colab.research.google.com/assets/colab-badge.svg\" alt=\"Open In Colab\"/></a>"
      ]
    },
    {
      "cell_type": "markdown",
      "source": [
        "# **1) Key concepts of Object-Oriented Programming (OOP):**\n",
        "\n",
        "**Class**: A blueprint for creating objects. It defines a set of attributes (variables) and methods (functions) that the created objects (instances) can use.\n",
        "\n",
        "**Object**: An instance of a class. Objects are the concrete instances created based on the class definition, each with its own specific values for the attributes defined by the class.\n",
        "\n",
        "**Encapsulation**: The concept of wrapping data (attributes) and methods (functions) into a single unit (class). Encapsulation restricts direct access to some of the object's components, which is used to prevent accidental interference and misuse of the data.\n",
        "\n",
        "**Inheritance**: A mechanism where a new class (child class) inherits the attributes and methods of an existing class (parent class). This allows for code reuse and the creation of hierarchical relationships between classes.\n",
        "\n",
        "**Polymorphism**: The ability to use a single interface to represent different data types or classes. It allows objects of different classes to be treated as objects of a common superclass, especially when they implement the same method in different ways."
      ],
      "metadata": {
        "id": "qOBgadpRNlwU"
      }
    },
    {
      "cell_type": "markdown",
      "source": [
        "# **2)CODE:**"
      ],
      "metadata": {
        "id": "CPCew1BLOKYJ"
      }
    },
    {
      "cell_type": "code",
      "source": [
        "class Car:\n",
        "    def __init__(self, make, model, year):\n",
        "        self.make = make\n",
        "        self.model = model\n",
        "        self.year = year\n",
        "    def display_info(self):\n",
        "        print(f\"Car: {self.year} {self.make} {self.model}\")\n",
        "car1 = Car(\"Toyota\", \"Corolla\", 2020)\n",
        "car1.display_info()\n"
      ],
      "metadata": {
        "id": "tGmyQ2prOdMa"
      },
      "execution_count": null,
      "outputs": []
    },
    {
      "cell_type": "markdown",
      "source": [
        "# **3) Instance Methods:**\n",
        "\n",
        "\n",
        "\n",
        "* Instance methods are the most common type of methods in a class. They operate on an instance of the class (object), and can access and modify instance attributes (variables unique to each object).\n",
        "* The first parameter of an instance method is always self, which refers to the instance of the class.\n",
        "* Usage: Instance methods can access and modify the instance attributes and call other instance methods.\n",
        "\n",
        "\n",
        "\n",
        "\n",
        "\n"
      ],
      "metadata": {
        "id": "t0aBe6z8XGp_"
      }
    },
    {
      "cell_type": "markdown",
      "source": [
        "## **Example of an Instance Method:**"
      ],
      "metadata": {
        "id": "IRF0mlGkXnrS"
      }
    },
    {
      "cell_type": "code",
      "source": [
        "class Car:\n",
        "    def __init__(self, make, model, year):\n",
        "        self.make = make\n",
        "        self.model = model\n",
        "        self.year = year\n",
        "    def display_info(self):  # Instance method\n",
        "        print(f\"Car: {self.year} {self.make} {self.model}\")\n",
        "car1 = Car(\"Toyota\", \"Corolla\", 2020)\n",
        "car1.display_info()  # This calls the instance method\n"
      ],
      "metadata": {
        "id": "WPdZJ51DXuY_"
      },
      "execution_count": null,
      "outputs": []
    },
    {
      "cell_type": "markdown",
      "source": [
        "# **Class Methods:**\n",
        "\n",
        "\n",
        "\n",
        "* Class methods operate on the class itself rather than instances of the class. They can modify class-level attributes (shared among all instances).  \n",
        "* Class methods are defined using the @classmethod decorator, and the first parameter is cls, which refers to the class itself (not an instance).\n",
        "* Usage: Class methods are used when you want to perform operations that affect the class as a whole, not just a single instance.\n",
        "\n",
        "\n",
        "\n",
        "\n",
        "\n"
      ],
      "metadata": {
        "id": "mCvUGsbfX2cL"
      }
    },
    {
      "cell_type": "markdown",
      "source": [
        "**Example of a Class Method:**"
      ],
      "metadata": {
        "id": "xCzJc6buYW-A"
      }
    },
    {
      "cell_type": "code",
      "source": [
        "class Car:\n",
        "    num_of_wheels = 4  # Class-level attribute, shared by all instances\n",
        "\n",
        "    def __init__(self, make, model, year):\n",
        "        self.make = make\n",
        "        self.model = model\n",
        "        self.year = year\n",
        "\n",
        "    def display_info(self):  # Instance method\n",
        "        print(f\"Car Information: {self.year} {self.make} {self.model}\")\n",
        "\n",
        "    @classmethod\n",
        "    def update_num_of_wheels(cls, wheels):  # Class method\n",
        "        cls.num_of_wheels = wheels\n",
        "\n",
        "# Using class method to change a class-level attribute\n",
        "Car.update_num_of_wheels(6)\n",
        "\n",
        "print(Car.num_of_wheels)  # Outputs: 6\n",
        "car1 = Car(\"Toyota\", \"Corolla\", 2020)\n",
        "car1.display_info()\n",
        "car1.update_num_of_wheels(8)  # Changes the class attribute for all instances\n",
        "print(Car.num_of_wheels)  # Outputs: 8\n"
      ],
      "metadata": {
        "id": "r6oIWSDXYZnF"
      },
      "execution_count": null,
      "outputs": []
    },
    {
      "cell_type": "markdown",
      "source": [
        "# **4) Method Overloading:**\n",
        "\n",
        "Python does not support method overloading in the traditional sense, like some other languages such as Java or C++. In Python, you cannot define multiple methods with the same name but different parameters within a class. Instead, Python handles method overloading by using default arguments, variable-length argument lists, or by manually checking the type or number of arguments inside a method.\n",
        "\n",
        "Ways to simulate method overloading in Python:\n",
        "*  Using Default Arguments: You can define a method with default parameter values, allowing it to behave differently based on the number of arguments passed.\n",
        "\n",
        "*  Using *args and **kwargs: These allow you to pass a variable number of positional or keyword arguments to a method and handle them accordingly.\n",
        "\n",
        "*  Type or Argument Checking: Inside the method, you can use logic to check the number or type of arguments passed and perform different operations based on that.\n",
        "\n"
      ],
      "metadata": {
        "id": "ZRaSk093Ywo_"
      }
    },
    {
      "cell_type": "markdown",
      "source": [
        "**Example: Using Default Arguments**"
      ],
      "metadata": {
        "id": "LlRAVJZxZA-X"
      }
    },
    {
      "cell_type": "code",
      "source": [
        "class MathOperations:\n",
        "    def add(self, a, b=0, c=0):\n",
        "        return a + b + c\n",
        "\n",
        "math_op = MathOperations()\n",
        "\n",
        "# Overloaded-like behavior\n",
        "print(math_op.add(5))        # Only 1 argument, result: 5\n",
        "print(math_op.add(5, 10))    # 2 arguments, result: 15\n",
        "print(math_op.add(5, 10, 15)) # 3 arguments, result: 30\n"
      ],
      "metadata": {
        "id": "Rz79YkZcZC18"
      },
      "execution_count": null,
      "outputs": []
    },
    {
      "cell_type": "markdown",
      "source": [
        "In this example:\n",
        "\n",
        "The method add() can take 1, 2, or 3 arguments due to the use of default values for b and c."
      ],
      "metadata": {
        "id": "p6YfOSFJZEnb"
      }
    },
    {
      "cell_type": "markdown",
      "source": [
        "**Example: Using *args for Variable Arguments**"
      ],
      "metadata": {
        "id": "aoqrqazWZJM2"
      }
    },
    {
      "cell_type": "code",
      "source": [
        "class MathOperations:\n",
        "    def add(self, *args):\n",
        "        return sum(args)\n",
        "\n",
        "math_op = MathOperations()\n",
        "\n",
        "# Overloaded-like behavior\n",
        "print(math_op.add(5))            # 1 argument, result: 5\n",
        "print(math_op.add(5, 10))        # 2 arguments, result: 15\n",
        "print(math_op.add(5, 10, 15))    # 3 arguments, result: 30\n"
      ],
      "metadata": {
        "id": "xF5Vr-bkZhsE"
      },
      "execution_count": null,
      "outputs": []
    },
    {
      "cell_type": "markdown",
      "source": [
        "Here, the *args allows the method add() to accept any number of arguments, making it flexible like traditional method overloading."
      ],
      "metadata": {
        "id": "FJjZ6NkeZizY"
      }
    },
    {
      "cell_type": "markdown",
      "source": [
        "**Example: Checking Argument Types**"
      ],
      "metadata": {
        "id": "OPtSrnTwZk3Z"
      }
    },
    {
      "cell_type": "code",
      "source": [
        "class MathOperations:\n",
        "    def add(self, a, b):\n",
        "        if isinstance(a, str) or isinstance(b, str):\n",
        "            return str(a) + str(b)  # Concatenation if one or both are strings\n",
        "        return a + b  # Addition if both are numbers\n",
        "\n",
        "math_op = MathOperations()\n",
        "\n",
        "# Overloaded-like behavior based on argument type\n",
        "print(math_op.add(5, 10))      # 15 (integer addition)\n",
        "print(math_op.add(\"Hello\", 5)) # \"Hello5\" (string concatenation)\n"
      ],
      "metadata": {
        "id": "rc1XfOoDZnW3"
      },
      "execution_count": null,
      "outputs": []
    },
    {
      "cell_type": "markdown",
      "source": [
        "In this example, the method add() checks the type of arguments and performs string concatenation if either argument is a string, mimicking method overloading based on argument types."
      ],
      "metadata": {
        "id": "CZe_U016Zqtz"
      }
    },
    {
      "cell_type": "markdown",
      "source": [
        "# **5) Access Modifiers:**\n",
        "\n",
        "In Python, access modifiers control the visibility and accessibility of class attributes and methods. Python provides three levels of access control: public, protected, and private. These are denoted using specific naming conventions."
      ],
      "metadata": {
        "id": "B6mpkpzhZtJW"
      }
    },
    {
      "cell_type": "markdown",
      "source": [
        "**1. Public:**\n",
        "* Definition: Public members (attributes or methods) can be accessed from both inside and outside the class. In Python, by default, all members are public unless specified otherwise.\n",
        "* Denotation: Public members are defined without any special notation."
      ],
      "metadata": {
        "id": "Yhl-ZvArZ_bL"
      }
    },
    {
      "cell_type": "markdown",
      "source": [
        "**Example:**"
      ],
      "metadata": {
        "id": "dxSjF5XjaLNx"
      }
    },
    {
      "cell_type": "code",
      "source": [
        "class Car:\n",
        "    def __init__(self, make, model):\n",
        "        self.make = make  # Public attribute\n",
        "        self.model = model  # Public attribute\n",
        "\n",
        "    def display_info(self):  # Public method\n",
        "        print(f\"Car: {self.make} {self.model}\")\n",
        "\n",
        "car = Car(\"Toyota\", \"Corolla\")\n",
        "print(car.make)  # Accessible from outside the class\n",
        "car.display_info()  # Accessible from outside the class\n"
      ],
      "metadata": {
        "id": "rkDhHqKCaOFY"
      },
      "execution_count": null,
      "outputs": []
    },
    {
      "cell_type": "markdown",
      "source": [
        "**2. Protected:**\n",
        "* Definition: Protected members are intended for internal use in the class and its subclasses. They can be accessed within the class and by any subclass but not from outside the class hierarchy.\n",
        "* Denotation: Protected members are denoted by a single leading underscore (_)."
      ],
      "metadata": {
        "id": "UGLCTFCgaQBD"
      }
    },
    {
      "cell_type": "markdown",
      "source": [
        "**Example:**"
      ],
      "metadata": {
        "id": "NiO6Gzr2aXX8"
      }
    },
    {
      "cell_type": "code",
      "source": [
        "class Car:\n",
        "    def __init__(self, make, model):\n",
        "        self._make = make  # Protected attribute\n",
        "        self._model = model  # Protected attribute\n",
        "\n",
        "    def _display_info(self):  # Protected method\n",
        "        print(f\"Car: {self._make} {self._model}\")\n",
        "\n",
        "class SportsCar(Car):\n",
        "    def show_info(self):\n",
        "        print(f\"Sports Car: {self._make} {self._model}\")  # Accessible in subclass\n",
        "\n",
        "car = Car(\"Toyota\", \"Corolla\")\n",
        "print(car._make)  # Technically accessible, but discouraged\n",
        "car._display_info()  # Not recommended to access directly outside the class\n"
      ],
      "metadata": {
        "id": "Zy8mco9CaaCb"
      },
      "execution_count": null,
      "outputs": []
    },
    {
      "cell_type": "markdown",
      "source": [
        "**3. Private:**\n",
        "* Definition: Private members are meant to be inaccessible from outside the class, including subclasses. They are strictly for internal use within the class itself.\n",
        "* Denotation: Private members are denoted by a double leading underscore (__)."
      ],
      "metadata": {
        "id": "UXg4pviFacAb"
      }
    },
    {
      "cell_type": "markdown",
      "source": [
        "**Example:**"
      ],
      "metadata": {
        "id": "ANE4r8WVajpC"
      }
    },
    {
      "cell_type": "code",
      "source": [
        "class Car:\n",
        "    def __init__(self, make, model):\n",
        "        self.__make = make  # Private attribute\n",
        "        self.__model = model  # Private attribute\n",
        "\n",
        "    def __display_info(self):  # Private method\n",
        "        print(f\"Car: {self.__make} {self.__model}\")\n",
        "\n",
        "    def show_info(self):\n",
        "        self.__display_info()  # Accessible within the class\n",
        "\n",
        "car = Car(\"Toyota\", \"Corolla\")\n",
        "# print(car.__make)  # Raises an AttributeError, not accessible from outside\n",
        "car.show_info()  # Accessed indirectly via a public method\n"
      ],
      "metadata": {
        "id": "xregytnYal7u"
      },
      "execution_count": null,
      "outputs": []
    },
    {
      "cell_type": "markdown",
      "source": [
        "# **6) Inheritance:**\n",
        "\n",
        "In Python, inheritance allows one class (child class) to inherit attributes and methods from another class (parent class). This helps promote code reusability and establishes a relationship between the classes. Python supports five types of inheritance:"
      ],
      "metadata": {
        "id": "Ymxo4ZYras8X"
      }
    },
    {
      "cell_type": "markdown",
      "source": [
        "**1. Single Inheritance:**\n",
        "* In single inheritance, a child class inherits from one parent class.\n",
        "* Example:"
      ],
      "metadata": {
        "id": "VEgFiz6pbEqK"
      }
    },
    {
      "cell_type": "code",
      "source": [
        "class Parent:\n",
        "    def parent_method(self):\n",
        "        print(\"This is the parent method.\")\n",
        "\n",
        "class Child(Parent):  # Inheriting from Parent class\n",
        "    def child_method(self):\n",
        "        print(\"This is the child method.\")\n",
        "\n",
        "c = Child()\n",
        "c.parent_method()  # Output: This is the parent method.\n"
      ],
      "metadata": {
        "id": "QIoIIYxpbNsd"
      },
      "execution_count": null,
      "outputs": []
    },
    {
      "cell_type": "markdown",
      "source": [
        "**2. Multiple Inheritance:**\n",
        "* In multiple inheritance, a child class can inherit from more than one parent class. This allows a class to combine functionalities from multiple base classes.\n",
        "* Example:"
      ],
      "metadata": {
        "id": "bacFm_qBbPsK"
      }
    },
    {
      "cell_type": "code",
      "source": [
        "class Parent1:\n",
        "    def method_parent1(self):\n",
        "        print(\"This is method from Parent1.\")\n",
        "\n",
        "class Parent2:\n",
        "    def method_parent2(self):\n",
        "        print(\"This is method from Parent2.\")\n",
        "\n",
        "class Child(Parent1, Parent2):  # Inheriting from both Parent1 and Parent2\n",
        "    def child_method(self):\n",
        "        print(\"This is the child method.\")\n",
        "\n",
        "c = Child()\n",
        "c.method_parent1()  # Output: This is method from Parent1.\n",
        "c.method_parent2()  # Output: This is method from Parent2.\n"
      ],
      "metadata": {
        "id": "kOJF3ZyybX7E"
      },
      "execution_count": null,
      "outputs": []
    },
    {
      "cell_type": "markdown",
      "source": [
        "**3. Multilevel Inheritance:**\n",
        "* In multilevel inheritance, a class is derived from another class that is also derived from another parent class. This forms a chain of inheritance across multiple levels.\n",
        "* Example:"
      ],
      "metadata": {
        "id": "ahtaE2UvbaS8"
      }
    },
    {
      "cell_type": "code",
      "source": [
        "class Grandparent:\n",
        "    def method_grandparent(self):\n",
        "        print(\"This is the grandparent method.\")\n",
        "\n",
        "class Parent(Grandparent):\n",
        "    def method_parent(self):\n",
        "        print(\"This is the parent method.\")\n",
        "\n",
        "class Child(Parent):  # Child inherits from Parent, which inherits from Grandparent\n",
        "    def child_method(self):\n",
        "        print(\"This is the child method.\")\n",
        "\n",
        "c = Child()\n",
        "c.method_grandparent()  # Output: This is the grandparent method.\n"
      ],
      "metadata": {
        "id": "-t_1zLGDbh1F"
      },
      "execution_count": null,
      "outputs": []
    },
    {
      "cell_type": "markdown",
      "source": [
        "**4. Hierarchical Inheritance:**\n",
        "* In hierarchical inheritance, multiple child classes inherit from the same parent class.\n",
        "\n",
        "* Example:"
      ],
      "metadata": {
        "id": "cpI6SEJwbjb8"
      }
    },
    {
      "cell_type": "code",
      "source": [
        "class Parent:\n",
        "    def parent_method(self):\n",
        "        print(\"This is the parent method.\")\n",
        "\n",
        "class Child1(Parent):\n",
        "    def child1_method(self):\n",
        "        print(\"This is the child1 method.\")\n",
        "\n",
        "class Child2(Parent):\n",
        "    def child2_method(self):\n",
        "        print(\"This is the child2 method.\")\n",
        "\n",
        "c1 = Child1()\n",
        "c2 = Child2()\n",
        "c1.parent_method()  # Output: This is the parent method.\n",
        "c2.parent_method()  # Output: This is the parent method.\n"
      ],
      "metadata": {
        "id": "upKO45vQbpqN"
      },
      "execution_count": null,
      "outputs": []
    },
    {
      "cell_type": "markdown",
      "source": [
        "**5. Hybrid Inheritance:**\n",
        "* Hybrid inheritance is a combination of more than one type of inheritance, for example, combining hierarchical and multiple inheritance.\n",
        "* Example:"
      ],
      "metadata": {
        "id": "I6B5jnOnbrev"
      }
    },
    {
      "cell_type": "code",
      "source": [
        "class Parent:\n",
        "    def parent_method(self):\n",
        "        print(\"This is the parent method.\")\n",
        "\n",
        "class Child1(Parent):\n",
        "    def child1_method(self):\n",
        "        print(\"This is the child1 method.\")\n",
        "\n",
        "class Child2(Parent):\n",
        "    def child2_method(self):\n",
        "        print(\"This is the child2 method.\")\n",
        "\n",
        "class SubChild(Child1, Child2):  # Multiple inheritance (from Child1 and Child2)\n",
        "    def subchild_method(self):\n",
        "        print(\"This is the subchild method.\")\n",
        "\n",
        "sc = SubChild()\n",
        "sc.parent_method()  # Output: This is the parent method.\n"
      ],
      "metadata": {
        "id": "T2MLZjl8bzFx"
      },
      "execution_count": null,
      "outputs": []
    },
    {
      "cell_type": "markdown",
      "source": [
        "**Example of Multiple Inheritance:**\n",
        "\n",
        "\n",
        "Here's a simple example showing how multiple inheritance works:"
      ],
      "metadata": {
        "id": "bXVelu61b02Z"
      }
    },
    {
      "cell_type": "code",
      "source": [
        "class Engine:\n",
        "    def start_engine(self):\n",
        "        print(\"Engine started.\")\n",
        "\n",
        "class Wheels:\n",
        "    def roll_wheels(self):\n",
        "        print(\"Wheels are rolling.\")\n",
        "\n",
        "class Car(Engine, Wheels):  # Car inherits from both Engine and Wheels\n",
        "    def drive(self):\n",
        "        print(\"Car is driving.\")\n",
        "\n",
        "# Create an instance of Car\n",
        "car = Car()\n",
        "\n",
        "# Access methods from both parent classes\n",
        "car.start_engine()  # Output: Engine started.\n",
        "car.roll_wheels()   # Output: Wheels are rolling.\n",
        "car.drive()         # Output: Car is driving.\n"
      ],
      "metadata": {
        "id": "mwzhY1SDb-6D"
      },
      "execution_count": null,
      "outputs": []
    },
    {
      "cell_type": "markdown",
      "source": [
        "# **7) Method Resolution Order (MRO) in Python**\n",
        "\n",
        "he Method Resolution Order (MRO) in Python determines the sequence in which methods and attributes are inherited and searched for in a class hierarchy, especially when multiple inheritance is involved. Python uses the C3 linearization algorithm to compute this order, ensuring that the lookup is predictable and consistent. MRO ensures that:\n",
        "\n",
        "1. A child class is searched before its parent classes.\n",
        "2. Multiple inheritance is handled in a left-to-right order, as specified in the class definition.\n",
        "3. Each class is only checked once, and conflicts are resolved through depth-first search.\n",
        "\n",
        "**Importance:**\n",
        "\n",
        "MRO plays a vital role in resolving issues like the Diamond Problem, where classes share a common ancestor, by ensuring that the method of a common ancestor is not invoked multiple times.\n",
        "\n",
        "**Retrieving MRO:**\n",
        "\n",
        "MRO can be retrieved programmatically using:\n",
        "\n",
        "* ClassName.__mro__ → Returns a tuple of the MRO.\n",
        "* ClassName.mro() → Returns the MRO as a list.\n",
        "* help(ClassName) → Prints the MRO along with class documentation.\n",
        "\n",
        "**Example:**"
      ],
      "metadata": {
        "id": "b4jqJhn8cBQ8"
      }
    },
    {
      "cell_type": "code",
      "source": [
        "class A: pass\n",
        "class B(A): pass\n",
        "class C(A): pass\n",
        "class D(B, C): pass\n",
        "\n",
        "print(D.__mro__)  # Output: (<class 'D'>, <class 'B'>, <class 'C'>, <class 'A'>, <class 'object'>)\n"
      ],
      "metadata": {
        "id": "ZCz2woBydG4L"
      },
      "execution_count": null,
      "outputs": []
    },
    {
      "cell_type": "markdown",
      "source": [
        "In this example, the MRO for class D is D → B → C → A → object, ensuring that methods are checked in the correct order."
      ],
      "metadata": {
        "id": "W8yzVKNadJAj"
      }
    },
    {
      "cell_type": "markdown",
      "source": [
        "# **8) CODE:**"
      ],
      "metadata": {
        "id": "jZfoUUxLdMWv"
      }
    },
    {
      "cell_type": "code",
      "source": [
        "// Abstract base class Shape\n",
        "abstract class Shape {\n",
        "    // Abstract method to calculate area\n",
        "    public abstract double area();\n",
        "}\n",
        "\n",
        "// Circle subclass\n",
        "class Circle extends Shape {\n",
        "    private double radius;\n",
        "\n",
        "    public Circle(double radius) {\n",
        "        this.radius = radius;\n",
        "    }\n",
        "\n",
        "    @Override\n",
        "    public double area() {\n",
        "        return Math.PI * radius * radius;\n",
        "    }\n",
        "}\n",
        "\n",
        "// Rectangle subclass\n",
        "class Rectangle extends Shape {\n",
        "    private double length;\n",
        "    private double width;\n",
        "\n",
        "    public Rectangle(double length, double width) {\n",
        "        this.length = length;\n",
        "        this.width = width;\n",
        "    }\n",
        "\n",
        "    @Override\n",
        "    public double area() {\n",
        "        return length * width;\n",
        "    }\n",
        "}\n",
        "\n",
        "public class ShapeDemo {\n",
        "    public static void main(String[] args) {\n",
        "        // Example usage\n",
        "        Circle circle = new Circle(5.0);\n",
        "        System.out.println(\"Area of circle: \" + circle.area());\n",
        "\n",
        "        Rectangle rectangle = new Rectangle(4.0, 6.0);\n",
        "        System.out.println(\"Area of rectangle: \" + rectangle.area());\n",
        "    }\n",
        "}\n"
      ],
      "metadata": {
        "id": "5g935r52eABl"
      },
      "execution_count": null,
      "outputs": []
    },
    {
      "cell_type": "markdown",
      "source": [
        "# **9) Polymorphism:**\n",
        "Polymorphism allows us to write a function that can handle different objects, even if they belong to different classes, as long as they share a common interface. In Python, polymorphism is often achieved through method overriding, where different classes implement the same method (e.g., area()) but provide different functionality."
      ],
      "metadata": {
        "id": "Hdh4A0vIeD5m"
      }
    },
    {
      "cell_type": "markdown",
      "source": [
        "To demonstrate polymorphism, we will create a function that accepts various Shape objects (e.g., Circle and Rectangle) and calls their area() method. Since both classes implement area(), Python will correctly resolve which version of the method to call based on the object type.\n"
      ],
      "metadata": {
        "id": "llTA7bGfeZPp"
      }
    },
    {
      "cell_type": "markdown",
      "source": [
        "**Example:**"
      ],
      "metadata": {
        "id": "UcxETL9-ed-T"
      }
    },
    {
      "cell_type": "code",
      "source": [
        "from abc import ABC, abstractmethod\n",
        "import math\n",
        "\n",
        "# Abstract Base Class\n",
        "class Shape(ABC):\n",
        "    @abstractmethod\n",
        "    def area(self):\n",
        "        pass\n",
        "\n",
        "# Subclass: Circle\n",
        "class Circle(Shape):\n",
        "    def __init__(self, radius):\n",
        "        self.radius = radius\n",
        "\n",
        "    def area(self):\n",
        "        return math.pi * (self.radius ** 2)\n",
        "\n",
        "# Subclass: Rectangle\n",
        "class Rectangle(Shape):\n",
        "    def __init__(self, length, width):\n",
        "        self.length = length\n",
        "        self.width = width\n",
        "\n",
        "    def area(self):\n",
        "        return self.length * self.width\n",
        "\n",
        "# Function demonstrating polymorphism\n",
        "def print_area(shape: Shape):\n",
        "    print(f\"The area is: {shape.area()}\")\n",
        "\n",
        "# Create instances of Circle and Rectangle\n",
        "circle = Circle(5)\n",
        "rectangle = Rectangle(4, 6)\n",
        "\n",
        "# Use the same function to print the areas of different shapes\n",
        "print_area(circle)     # Output: The area is: 78.5398...\n",
        "print_area(rectangle)  # Output: The area is: 24\n"
      ],
      "metadata": {
        "id": "5Duk4v54eii3"
      },
      "execution_count": null,
      "outputs": []
    },
    {
      "cell_type": "markdown",
      "source": [
        "# **10) CODE:**"
      ],
      "metadata": {
        "id": "ueonuEz4elro"
      }
    },
    {
      "cell_type": "code",
      "source": [
        "class BankAccount:\n",
        "    def __init__(self, account_number, initial_balance=0):\n",
        "        self.__account_number = account_number  # Private attribute\n",
        "        self.__balance = initial_balance  # Private attribute\n",
        "\n",
        "    def deposit(self, amount):\n",
        "        if amount > 0:\n",
        "            self.__balance += amount\n",
        "            print(f\"Deposited: ${amount:.2f}. New balance: ${self.__balance:.2f}.\")\n",
        "        else:\n",
        "            print(\"Deposit amount must be positive.\")\n",
        "\n",
        "    def withdraw(self, amount):\n",
        "        if 0 < amount <= self.__balance:\n",
        "            self.__balance -= amount\n",
        "            print(f\"Withdrew: ${amount:.2f}. New balance: ${self.__balance:.2f}.\")\n",
        "        else:\n",
        "            print(\"Insufficient balance or invalid withdrawal amount.\")\n",
        "\n",
        "    def get_balance(self):\n",
        "        return self.__balance\n",
        "\n",
        "    def get_account_number(self):\n",
        "        return self.__account_number\n",
        "\n",
        "\n",
        "# Example usage:\n",
        "account = BankAccount(\"123456789\", 1000)\n",
        "account.deposit(500)\n",
        "account.withdraw(200)\n",
        "print(f\"Account Number: {account.get_account_number()}\")\n",
        "print(f\"Balance: ${account.get_balance():.2f}\")\n"
      ],
      "metadata": {
        "id": "Kf-Hso8ge6FJ"
      },
      "execution_count": null,
      "outputs": []
    },
    {
      "cell_type": "markdown",
      "source": [
        "# **11) CODE:**"
      ],
      "metadata": {
        "id": "6obxt-lRe8Xu"
      }
    },
    {
      "cell_type": "code",
      "source": [
        "class Vector:\n",
        "    def __init__(self, x, y):\n",
        "        self.x = x\n",
        "        self.y = y\n",
        "\n",
        "    def __str__(self):\n",
        "        # This method returns a string representation of the Vector\n",
        "        return f\"Vector({self.x}, {self.y})\"\n",
        "\n",
        "    def __add__(self, other):\n",
        "        # This method allows adding two Vector instances\n",
        "        if isinstance(other, Vector):\n",
        "            return Vector(self.x + other.x, self.y + other.y)\n",
        "        return NotImplemented\n",
        "\n",
        "# Example usage:\n",
        "v1 = Vector(2, 3)\n",
        "v2 = Vector(5, 7)\n",
        "\n",
        "print(v1)          # Output: Vector(2, 3)\n",
        "print(v2)          # Output: Vector(5, 7)\n",
        "\n",
        "v3 = v1 + v2\n",
        "print(v3)         # Output: Vector(7, 10)\n"
      ],
      "metadata": {
        "id": "NRXpVzRnfIYj"
      },
      "execution_count": null,
      "outputs": []
    },
    {
      "cell_type": "markdown",
      "source": [
        "# **12) CODE:**"
      ],
      "metadata": {
        "id": "cgjkFjgVfJ81"
      }
    },
    {
      "cell_type": "code",
      "source": [
        "import time\n",
        "from functools import wraps\n",
        "\n",
        "def execution_time_decorator(func):\n",
        "    @wraps(func)\n",
        "    def wrapper(*args, **kwargs):\n",
        "        start_time = time.time()  # Record start time\n",
        "        result = func(*args, **kwargs)  # Call the original function\n",
        "        end_time = time.time()  # Record end time\n",
        "        execution_time = end_time - start_time  # Calculate execution time\n",
        "        print(f\"Execution time of '{func.__name__}': {execution_time:.4f} seconds\")\n",
        "        return result\n",
        "    return wrapper\n",
        "\n",
        "# Example usage\n",
        "@execution_time_decorator\n",
        "def example_function(n):\n",
        "    total = 0\n",
        "    for i in range(n):\n",
        "        total += i\n",
        "    return total\n",
        "\n",
        "result = example_function(1000000)  # Call the decorated function\n"
      ],
      "metadata": {
        "id": "Fob1jnwzfSeZ"
      },
      "execution_count": null,
      "outputs": []
    },
    {
      "cell_type": "markdown",
      "source": [
        "# **13) Diamond Problem in Multiple Inheritance**\n",
        " The Diamond Problem occurs in multiple inheritance when a class inherits from two classes that both inherit from a common base class, creating a diamond-shaped inheritance hierarchy. This can lead to ambiguity in method resolution.\n",
        "\n",
        "**Example:**"
      ],
      "metadata": {
        "id": "buh8wcSEfTMr"
      }
    },
    {
      "cell_type": "code",
      "source": [
        "class A:\n",
        "    def greet(self):\n",
        "        return \"Hello from A!\"\n",
        "\n",
        "class B(A):\n",
        "    def greet(self):\n",
        "        return \"Hello from B!\"\n",
        "\n",
        "class C(A):\n",
        "    def greet(self):\n",
        "        return \"Hello from C!\"\n",
        "\n",
        "class D(B, C):\n",
        "    pass\n",
        "\n",
        "d = D()\n",
        "print(d.greet())  # Output: Hello from B!\n"
      ],
      "metadata": {
        "id": "6fdc8Tg9fqZh"
      },
      "execution_count": null,
      "outputs": []
    },
    {
      "cell_type": "markdown",
      "source": [
        "Explanation:\n",
        "\n",
        "* In the above example, class D inherits from both B and C, which both inherit from A.\n",
        "* When calling d.greet(), Python must decide which greet method to use, leading to ambiguity.\n",
        "\n",
        "**Resolution** **in** **Python**: Python resolves this ambiguity using Method Resolution Order (MRO), which determines the order in which classes are looked up when searching for a method. Python employs the C3 linearization algorithm to establish a consistent order.\n",
        "\n",
        "How MRO Works:\n",
        "\n",
        "* It performs a depth-first search from the class to its ancestors.\n",
        "* It respects the order of inheritance as declared in the class definition.\n",
        "* For class D, the MRO is D -> B -> C -> A, meaning D will use the greet method from B.\n",
        "\n",
        "**MRO Check**: You can check the MRO with:"
      ],
      "metadata": {
        "id": "ePJXTOIffsKz"
      }
    },
    {
      "cell_type": "code",
      "source": [
        "print(D.__mro__)  # Outputs the method resolution order.\n"
      ],
      "metadata": {
        "id": "MWQd9bVugMAC"
      },
      "execution_count": null,
      "outputs": []
    },
    {
      "cell_type": "markdown",
      "source": [
        "This systematic approach ensures predictable behavior even in complex inheritance scenarios, effectively managing the Diamond Problem in Python."
      ],
      "metadata": {
        "id": "hChlzOclgNWF"
      }
    },
    {
      "cell_type": "markdown",
      "source": [
        "# **14) CODE:**"
      ],
      "metadata": {
        "id": "1ryigEpHgQh6"
      }
    },
    {
      "cell_type": "code",
      "source": [
        "class InstanceCounter:\n",
        "    instance_count = 0  # Class variable to keep track of instances\n",
        "\n",
        "    def __init__(self):\n",
        "        InstanceCounter.instance_count += 1  # Increment the count when a new instance is created\n",
        "\n",
        "    @classmethod\n",
        "    def get_instance_count(cls):\n",
        "        return cls.instance_count  # Class method to return the count\n",
        "\n",
        "# Example usage\n",
        "obj1 = InstanceCounter()\n",
        "obj2 = InstanceCounter()\n",
        "obj3 = InstanceCounter()\n",
        "\n",
        "print(InstanceCounter.get_instance_count())  # Output: 3\n"
      ],
      "metadata": {
        "id": "Xhbhm78mgeNc"
      },
      "execution_count": null,
      "outputs": []
    },
    {
      "cell_type": "markdown",
      "source": [
        "# **15) CODE:**"
      ],
      "metadata": {
        "id": "RQsQNxQ9ggpp"
      }
    },
    {
      "cell_type": "code",
      "source": [
        "class YearChecker:\n",
        "    @staticmethod\n",
        "    def is_leap_year(year):\n",
        "        \"\"\"Check if a given year is a leap year.\"\"\"\n",
        "        if (year % 4 == 0 and year % 100 != 0) or (year % 400 == 0):\n",
        "            return True\n",
        "        return False\n",
        "\n",
        "# Example usage\n",
        "year = 2024\n",
        "if YearChecker.is_leap_year(year):\n",
        "    print(f\"{year} is a leap year.\")\n",
        "else:\n",
        "    print(f\"{year} is not a leap year.\")\n",
        "\n",
        "year = 1900\n",
        "if YearChecker.is_leap_year(year):\n",
        "    print(f\"{year} is a leap year.\")\n",
        "else:\n",
        "    print(f\"{year} is not a leap year.\")\n"
      ],
      "metadata": {
        "id": "xcaxWBgpgocW"
      },
      "execution_count": null,
      "outputs": []
    }
  ]
}