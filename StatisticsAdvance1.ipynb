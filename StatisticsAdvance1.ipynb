{
  "nbformat": 4,
  "nbformat_minor": 0,
  "metadata": {
    "colab": {
      "provenance": [],
      "authorship_tag": "ABX9TyPpJrrzimBQKC0kzi5dyRio",
      "include_colab_link": true
    },
    "kernelspec": {
      "name": "python3",
      "display_name": "Python 3"
    },
    "language_info": {
      "name": "python"
    }
  },
  "cells": [
    {
      "cell_type": "markdown",
      "metadata": {
        "id": "view-in-github",
        "colab_type": "text"
      },
      "source": [
        "<a href=\"https://colab.research.google.com/github/AkashSeervi2003/PW_Assignment/blob/main/StatisticsAdvance1.ipynb\" target=\"_parent\"><img src=\"https://colab.research.google.com/assets/colab-badge.svg\" alt=\"Open In Colab\"/></a>"
      ]
    },
    {
      "cell_type": "markdown",
      "source": [
        "# **1)**\n",
        "# **Properties of the F-Distribution:**\n",
        "\n",
        "1. Definition and Use:\n",
        "\n",
        "   The F-distribution is used in analysis of variance (ANOVA) and tests of equality of variances.\n",
        "\n",
        "2. Shape:\n",
        "\n",
        "  Positively skewed, especially for small sample sizes. Becomes more symmetric with larger samples.\n",
        "\n",
        "  Values are non-negative.\n",
        "\n",
        "3. Parameters:\n",
        "\n",
        "    Two degrees of freedom:\n",
        "𝑑\n",
        "1\n",
        " (numerator) and\n",
        "𝑑\n",
        "2\n",
        " (denominator).\n",
        "\n",
        "4. Mean and Mode:\n",
        "\n",
        "      Mean:\n",
        "    𝑑\n",
        "    2\n",
        "    𝑑\n",
        "    2\n",
        "    −\n",
        "    2\n",
        "    for\n",
        "    𝑑\n",
        "    2>2\n",
        "    .\n",
        "\n",
        "    Mode:\n",
        "(\n",
        "𝑑\n",
        "1\n",
        "−\n",
        "2\n",
        ")\n",
        "𝑑\n",
        "2\n",
        "𝑑\n",
        "1\n",
        "(\n",
        "𝑑\n",
        "2+2)\n",
        " for\n",
        "𝑑1>2.\n",
        "\n",
        "5. Applications:\n",
        "\n",
        "   ANOVA: Compares means of multiple groups.\n",
        "\n",
        "   Regression Analysis: Tests the overall significance.\n",
        "\n",
        "   Test for Equal Variances: Compares two population variances."
      ],
      "metadata": {
        "id": "pRxscilKxERU"
      }
    },
    {
      "cell_type": "markdown",
      "source": [
        "# **2)**\n",
        "# **Use of the F-Distribution in Statistical Tests:**\n",
        "\n",
        "1. **Analysis of Variance (ANOVA):**\n",
        "\n",
        "    Purpose: To compare the means of three or more groups.\n",
        "\n",
        "    Why Appropriate: It compares the variance between groups to the variance within groups.\n",
        "\n",
        "2. **Regression Analysis:**\n",
        "\n",
        "    Purpose: To test the overall significance of a regression model.\n",
        "\n",
        "    Why Appropriate: It assesses if the model significantly predicts the dependent variable.\n",
        "\n",
        "3. **Test for Equal Variances:**\n",
        "\n",
        "    Purpose: To check if two or more populations have the same variance.\n",
        "\n",
        "    Why Appropriate: It compares the ratio of variances between groups.\n"
      ],
      "metadata": {
        "id": "vWZZSd_GyOK0"
      }
    },
    {
      "cell_type": "markdown",
      "source": [
        "# **3)**\n",
        "\n",
        "# **Key Assumptions for Conducting an F-Test to Compare Variances:**\n",
        "\n",
        "\n",
        "1. **Normality:**\n",
        "\n",
        "    Both populations should follow a normal distribution.\n",
        "\n",
        "2. **Independence:**\n",
        "\n",
        "    The samples must be independent of each other.\n",
        "\n",
        "3. **Random Sampling:**\n",
        "\n",
        "    The samples should be randomly selected from the populations.\n",
        "\n",
        "4. **Equal Variances:**\n",
        "\n",
        "    The populations being compared should have similar variances for the test to be valid (although the F-test is conducted to test this).\n",
        "\n",
        "5. **Ratio of Variances:**\n",
        "\n",
        "    The F-test is appropriate when the ratio of the variances is meaningful."
      ],
      "metadata": {
        "id": "En4Ki9fhzbHE"
      }
    },
    {
      "cell_type": "markdown",
      "source": [
        "# **4)**\n",
        "\n",
        "# **ANOVA vs. t-Test:**\n",
        "\n",
        "**ANOVA (Analysis of Variance):**\n",
        "\n",
        "   * Purpose: To compare means of three or more groups.\n",
        "\n",
        "   * Why: Determines if at least one group mean is different from the others.\n",
        "\n",
        "**t-Test:**\n",
        "\n",
        "   * Purpose: To compare means of two groups.\n",
        "\n",
        "   * Why: Tests if the means of the two groups are equal.\n",
        "\n",
        "**Key Differences:**\n",
        "\n",
        "* Number of Groups: t-test for two groups, ANOVA for three or more.\n",
        "\n",
        "* Hypothesis: t-test checks for equality of two means; ANOVA checks for differences among multiple means.\n",
        "\n",
        "* Follow-up Tests: ANOVA may need post-hoc tests to pinpoint specific group differences.\n"
      ],
      "metadata": {
        "id": "wFshJboq0FcO"
      }
    },
    {
      "cell_type": "markdown",
      "source": [
        "# **5)**\n",
        "\n",
        "# **Using One-Way ANOVA vs. Multiple t-Tests:**\n",
        "\n",
        "**When to Use One-Way ANOVA:**\n",
        "\n",
        "  * When comparing the means of three or more independent groups.\n",
        "\n",
        "**Why One-Way ANOVA is Preferred:**\n",
        "\n",
        "1. **Control Type I Error Rate:** Conducting multiple t-tests increases the risk of Type I errors (false positives). ANOVA controls this by maintaining an overall alpha level.\n",
        "\n",
        "2. **Efficiency:** One-Way ANOVA is more efficient and easier to manage statistically than performing multiple pairwise t-tests.\n",
        "\n",
        "3. **Comprehensive Analysis:** It considers all group comparisons simultaneously, providing an overall test of group differences rather than multiple separate tests.\n",
        "\n",
        "Using a one-way ANOVA ensures more reliable results and simplifies the analysis when comparing multiple groups."
      ],
      "metadata": {
        "id": "BKHwOwDh0viE"
      }
    },
    {
      "cell_type": "markdown",
      "source": [
        "# **6)**\n",
        "# **Partitioning Variance in ANOVA:**\n",
        "\n",
        "1. **Between-Group Variance:**\n",
        "\n",
        "   * Measures variability among group means.\n",
        "\n",
        "   * Calculated by comparing group means to the overall mean.\n",
        "\n",
        "2. **Within-Group Variance:**\n",
        "\n",
        "   * Measures variability within each group.\n",
        "\n",
        "   * Calculated by comparing individual scores to their group mean.\n",
        "\n",
        "**Contribution to F-Statistic:**\n",
        "\n",
        "  * Formula:\n",
        "𝐹\n",
        "=\n",
        "Mean Square Between (MSB)/\n",
        "Mean Square Within (MSW)\n",
        "\n",
        "  * Interpretation: A higher F-value indicates greater variance between groups compared to within groups, suggesting significant differences among group means."
      ],
      "metadata": {
        "id": "xu7QTP6c1SeQ"
      }
    },
    {
      "cell_type": "markdown",
      "source": [
        "# **7)**\n",
        "# **Classical (Frequentist) vs. Bayesian ANOVA:**\n",
        "**Handling Uncertainty:**\n",
        "\n",
        " * Frequentist: Uses p-values.\n",
        "\n",
        " * Bayesian: Uses probability distributions.\n",
        "\n",
        "**Parameter Estimation:**\n",
        "\n",
        " * Frequentist: Point estimates and confidence intervals.\n",
        "\n",
        " * Bayesian: Posterior distributions.\n",
        "\n",
        "**Hypothesis Testing:**\n",
        "\n",
        " * Frequentist: P-values.\n",
        "\n",
        " * Bayesian: Posterior probabilities and Bayes factors.\n",
        "\n",
        "**Key Differences:**\n",
        "\n",
        " * Approach: Fixed parameters vs. updated beliefs.\n",
        "\n",
        " * Uncertainty: P-values vs. distributions.\n",
        "\n",
        " * Estimation: Point vs. posterior.\n",
        "\n",
        " * Testing: P-values vs. posterior probabilities."
      ],
      "metadata": {
        "id": "xz9OASci16QD"
      }
    },
    {
      "cell_type": "markdown",
      "source": [
        "# **8)**\n"
      ],
      "metadata": {
        "id": "WmI5Mhs52azv"
      }
    },
    {
      "cell_type": "code",
      "source": [
        "import numpy as np\n",
        "from scipy.stats import f\n",
        "\n",
        "# Income data for professions A and B\n",
        "profession_A = [48, 52, 55, 60, 62]\n",
        "profession_B = [45, 50, 55, 52, 47]\n",
        "\n",
        "# Calculate the variances\n",
        "var_A = np.var(profession_A, ddof=1)  # sample variance\n",
        "var_B = np.var(profession_B, ddof=1)  # sample variance\n",
        "\n",
        "# Calculate the F-statistic\n",
        "F = var_A / var_B\n",
        "\n",
        "# Degrees of freedom\n",
        "df1 = len(profession_A) - 1\n",
        "df2 = len(profession_B) - 1\n",
        "\n",
        "# Calculate the p-value\n",
        "p_value = 1 - f.cdf(F, df1, df2)\n",
        "\n",
        "# Print the results\n",
        "print(f\"F-statistic: {F}\")\n",
        "print(f\"p-value: {p_value}\")\n"
      ],
      "metadata": {
        "id": "vp3Hrnt82oyj"
      },
      "execution_count": null,
      "outputs": []
    },
    {
      "cell_type": "markdown",
      "source": [
        "**Interpretation:**\n",
        "1. **F-Statistic:** The F-statistic is the ratio of the variances of the two samples. If the F-statistic is significantly large or small, it suggests the variances are different.\n",
        "\n",
        "2. **p-Value:** The p-value helps determine the significance of the result. A small p-value (typically less than 0.05) indicates that the variances are significantly different."
      ],
      "metadata": {
        "id": "nshz0Q3Q2p_n"
      }
    },
    {
      "cell_type": "markdown",
      "source": [
        "# **9)**\n"
      ],
      "metadata": {
        "id": "0Q3NnlUS23Ch"
      }
    },
    {
      "cell_type": "code",
      "source": [
        "import scipy.stats as stats\n",
        "\n",
        "# Heights data for the three regions\n",
        "region_A = [160, 162, 165, 158, 164]\n",
        "region_B = [172, 175, 170, 168, 174]\n",
        "region_C = [180, 182, 179, 185, 183]\n",
        "\n",
        "# Perform one-way ANOVA\n",
        "F_statistic, p_value = stats.f_oneway(region_A, region_B, region_C)\n",
        "\n",
        "# Print the results\n",
        "print(f\"F-statistic: {F_statistic}\")\n",
        "print(f\"p-value: {p_value}\")\n"
      ],
      "metadata": {
        "id": "vK_B2O4h3Cz6"
      },
      "execution_count": null,
      "outputs": []
    },
    {
      "cell_type": "markdown",
      "source": [
        "**Interpretation:**\n",
        "* **F-statistic:** This value indicates the ratio of between-group variance to within-group variance. A higher F-statistic suggests more significant differences between group means.\n",
        "\n",
        "* **p-value:** This helps determine the significance of the results. A p-value less than 0.05 typically indicates that there are statistically significant differences between the group means.\n",
        "\n",
        "**Conclusion:**\n",
        " * If the p-value is less than 0.05, we reject the null hypothesis and conclude that there are significant differences in average heights between the three regions.\n",
        "\n",
        " * If the p-value is greater than 0.05, we fail to reject the null hypothesis and conclude that there are no significant differences in average heights between the three regions."
      ],
      "metadata": {
        "id": "6hvyKky53D41"
      }
    }
  ]
}